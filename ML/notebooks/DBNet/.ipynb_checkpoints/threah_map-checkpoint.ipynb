{
 "cells": [
  {
   "cell_type": "code",
   "execution_count": 1,
   "metadata": {},
   "outputs": [],
   "source": [
    "import imageio\n",
    "import imgaug as ia\n",
    "from imgaug.augmentables.polys import Polygon, PolygonsOnImage\n",
    "import imgaug.augmenters.flip as flip\n",
    "\n",
    "import numpy as np\n",
    "import pyclipper\n",
    "import shapely\n",
    "from shapely.geometry import Polygon as sPolygon\n",
    "from shapely.geometry import Point,LineString,LinearRing\n",
    "import matplotlib.pyplot as plt\n",
    "import cv2 as cv"
   ]
  },
  {
   "cell_type": "code",
   "execution_count": 3,
   "metadata": {},
   "outputs": [
    {
     "data": {
      "text/plain": [
       "()"
      ]
     },
     "execution_count": 3,
     "metadata": {},
     "output_type": "execute_result"
    },
    {
     "data": {
      "text/plain": [
       "(array([388, 389, 390, ..., 408, 409, 410], dtype=int64),\n",
       " array([ 70,  70,  70, ..., 465, 465, 465], dtype=int64))"
      ]
     },
     "execution_count": 3,
     "metadata": {},
     "output_type": "execute_result"
    },
    {
     "data": {
      "image/png": "[encoded data removed]",
      "text/plain": [
       "<Figure size 856x571 with 1 Axes>"
      ]
     },
     "metadata": {
      "needs_background": "light"
     },
     "output_type": "display_data"
    }
   ],
   "source": [
    "gt = [\n",
    "        (350, 100),  # top left\n",
    "        (390, 85),  # top\n",
    "        (435, 110),  # top right\n",
    "        (435, 170),\n",
    "        (445, 250),  # right elbow\n",
    "        (430, 290),  # right hip\n",
    "        (440, 300),\n",
    "        (420, 340),\n",
    "        (440, 400),\n",
    "        (410, 450),  # right foot\n",
    "        (320, 430),\n",
    "        (280, 410),  # left foot\n",
    "        (300, 350),\n",
    "        (300, 210),  # left elbow\n",
    "        (340, 160),\n",
    "        (325, 140)  # nose\n",
    "    ]\n",
    "\n",
    "poly_gt = Polygon(gt)\n",
    "\n",
    "pco = pyclipper.PyclipperOffset()\n",
    "pco.AddPath(gt, pyclipper.JT_ROUND, pyclipper.ET_CLOSEDPOLYGON)\n",
    "solution = pco.Execute(-15.0)\n",
    "solution = np.array(solution)  \n",
    "solution = np.squeeze(solution)\n",
    "p_new1 = Polygon(solution)\n",
    "\n",
    "pco.AddPath(gt, pyclipper.JT_ROUND, pyclipper.ET_CLOSEDPOLYGON)\n",
    "solution = pco.Execute(15.0)\n",
    "solution = np.array(solution)\n",
    "solution = np.squeeze(solution)\n",
    "p_new2 = Polygon(solution)\n",
    "\n",
    "image = imageio.imread(\"1.jpg\")\n",
    "seg_map = np.zeros((image.shape[0],image.shape[1]))\n",
    "seg_map = cv.fillPoly(seg_map,[p_new2.coords.astype(np.int32)],1)\n",
    "seg_map = cv.fillPoly(seg_map,[p_new1.coords.astype(np.int32)],0)\n",
    "\n",
    "# ia.imshow(seg_map)\n",
    "# ia.imshow(poly_gt.draw_on_image(image, alpha_face=0.2, size_points=7))\n",
    "\n",
    "ys,xs = np.nonzero(seg_map)\n",
    "xs,ys\n",
    "\n",
    "poly_gt = poly_gt.to_shapely_line_string(closed=True)\n",
    "\n",
    "def cal_distance(x,y):\n",
    "    return Point(x,y).distance(poly_gt)\n",
    "def normalization(data):\n",
    "    _range = np.max(data) - np.min(data)\n",
    "    return (data - np.min(data)) / _range\n",
    "\n",
    "func_cal_distance = np.frompyfunc(cal_distance, 2, 1)\n",
    "dis_map = func_cal_distance(xs,ys)\n",
    "dis_map = normalization(dis_map)\n",
    "\n",
    "th_map = np.zeros((image.shape[0],image.shape[1]))\n",
    "th_map[ys,xs] = dis_map\n",
    "\n",
    "ia.imshow(th_map)"
   ]
  },
  {
   "cell_type": "code",
   "execution_count": null,
   "metadata": {},
   "outputs": [],
   "source": [
    "# image = imageio.imread(\"https://upload.wikimedia.org/wikipedia/commons/9/9a/Meerkat_%28Suricata_suricatta%29_Tswalu.jpg\")\n",
    "# image = ia.imresize_single_image(image, 0.25)\n",
    "# print(image.shape)\n",
    "# ia.imshow(image)"
   ]
  }
 ],
 "metadata": {
  "kernelspec": {
   "display_name": "Python 3",
   "language": "python",
   "name": "python3"
  },
  "language_info": {
   "codemirror_mode": {
    "name": "ipython",
    "version": 3
   },
   "file_extension": ".py",
   "mimetype": "text/x-python",
   "name": "python",
   "nbconvert_exporter": "python",
   "pygments_lexer": "ipython3",
   "version": "3.7.6"
  }
 },
 "nbformat": 4,
 "nbformat_minor": 4
}
