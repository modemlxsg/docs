{
 "cells": [
  {
   "cell_type": "code",
   "execution_count": 1,
   "metadata": {},
   "outputs": [
    {
     "data": {
      "text/plain": [
       "'2.1.0'"
      ]
     },
     "execution_count": 1,
     "metadata": {},
     "output_type": "execute_result"
    }
   ],
   "source": [
    "import tensorflow as tf\n",
    "import numpy as np\n",
    "import os\n",
    "import glob\n",
    "\n",
    "tf.version.VERSION"
   ]
  },
  {
   "cell_type": "code",
   "execution_count": 2,
   "metadata": {},
   "outputs": [],
   "source": [
    "path_img = \"H:\\dataset\\ICDAR2015\\ch4_training_images\" \n",
    "path_gt = \"H:\\dataset\\ICDAR2015\\ch4_training_localization_transcription_gt\""
   ]
  },
  {
   "cell_type": "code",
   "execution_count": 3,
   "metadata": {},
   "outputs": [],
   "source": [
    "def read_img(path):\n",
    "    img_raw = tf.io.read_file(path)\n",
    "    # img = tf.io.decode_jpeg(img_raw)\n",
    "    return img_raw\n",
    "\n",
    "img_ds = glob.glob(os.path.join(path_img,'*.jpg'))\n",
    "img_ds = tf.data.Dataset.from_tensor_slices(img_ds)\n",
    "img_ds = img_ds.map(read_img)\n",
    "img_ds = img_ds.map(tf.io.serialize_tensor)\n",
    "\n",
    "gt_ds = []\n",
    "path_gts = glob.glob(os.path.join(path_gt, '*.txt'))\n",
    "for path in path_gts:\n",
    "    with open(path, encoding='utf-8') as f:\n",
    "        lines = f.readlines()\n",
    "        gt = [line.lstrip('\\ufeff').rstrip('\\n').split(',') for line in lines]\n",
    "        gt_ds.append(gt)\n",
    "\n",
    "assert len(gt_ds)==1000\n",
    "\n",
    "gt_ds = tf.ragged.constant(gt_ds)\n",
    "gt_ds = tf.data.Dataset.from_tensor_slices(gt_ds)\n",
    "gt_ds = gt_ds.map(lambda x:x.to_tensor())\n",
    "gt_ds = gt_ds.map(tf.io.serialize_tensor)"
   ]
  },
  {
   "cell_type": "code",
   "execution_count": 4,
   "metadata": {},
   "outputs": [],
   "source": [
    "data_ds = tf.data.Dataset.zip((img_ds,gt_ds))"
   ]
  },
  {
   "cell_type": "code",
   "execution_count": 5,
   "metadata": {},
   "outputs": [
    {
     "data": {
      "text/plain": [
       "<MapDataset shapes: (), types: tf.string>"
      ]
     },
     "execution_count": 5,
     "metadata": {},
     "output_type": "execute_result"
    }
   ],
   "source": [
    "def _bytes_feature(value):\n",
    "    if isinstance(value, type(tf.constant(0))):\n",
    "        value = value.numpy()\n",
    "    return tf.train.Feature(bytes_list=tf.train.BytesList(value=[value]))\n",
    "\n",
    "def _float_feature(value):\n",
    "    return tf.train.Feature(float_list=tf.train.FloatList(value=value))\n",
    "\n",
    "def _int64_feature(value):\n",
    "    return tf.train.Feature(int64_list=tf.train.Int64List(value=value))\n",
    "\n",
    "\n",
    "def serialize_example(img_raw, gt):\n",
    "    feature = {\n",
    "        'img_raw': _bytes_feature(img_raw),\n",
    "        'gt': _bytes_feature(gt)\n",
    "    }\n",
    "    example_proto = tf.train.Example(features=tf.train.Features(feature=feature))\n",
    "    return example_proto.SerializeToString()\n",
    "\n",
    "def tf_serialize_example(img_raw, gt):\n",
    "    tf_string = tf.py_function(serialize_example,(img_raw, gt),tf.string)      \n",
    "    return tf.reshape(tf_string, ())\n",
    "\n",
    "serialize_data_ds = data_ds.map(tf_serialize_example)\n",
    "serialize_data_ds"
   ]
  },
  {
   "cell_type": "code",
   "execution_count": 6,
   "metadata": {},
   "outputs": [],
   "source": [
    "filename = 'icdar15_raw.tfrecord'\n",
    "writer = tf.data.experimental.TFRecordWriter(filename)\n",
    "writer.write(serialize_data_ds)"
   ]
  }
 ],
 "metadata": {
  "kernelspec": {
   "display_name": "Python 3",
   "language": "python",
   "name": "python3"
  },
  "language_info": {
   "codemirror_mode": {
    "name": "ipython",
    "version": 3
   },
   "file_extension": ".py",
   "mimetype": "text/x-python",
   "name": "python",
   "nbconvert_exporter": "python",
   "pygments_lexer": "ipython3",
   "version": "3.7.6"
  }
 },
 "nbformat": 4,
 "nbformat_minor": 4
}
