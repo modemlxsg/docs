{
 "cells": [
  {
   "cell_type": "code",
   "execution_count": 2,
   "metadata": {},
   "outputs": [
    {
     "data": {
      "text/plain": [
       "'2.1.0'"
      ]
     },
     "execution_count": 2,
     "metadata": {},
     "output_type": "execute_result"
    }
   ],
   "source": [
    "import tensorflow as tf\n",
    "import numpy as np\n",
    "import os\n",
    "import shapely\n",
    "import pyclipper\n",
    "\n",
    "tf.version.VERSION"
   ]
  },
  {
   "cell_type": "code",
   "execution_count": 6,
   "metadata": {},
   "outputs": [
    {
     "name": "stdout",
     "output_type": "stream",
     "text": [
      "(720, 1280, 3) (7, 9)\n"
     ]
    }
   ],
   "source": [
    "filename = 'icdar15_raw.tfrecord'\n",
    "ds = tf.data.TFRecordDataset(filename)\n",
    "\n",
    "feature_description = {\n",
    "    'img_raw':tf.io.FixedLenFeature([],tf.string,default_value=''),\n",
    "    'gt':tf.io.FixedLenFeature([],tf.string,default_value='')\n",
    "}\n",
    "\n",
    "def parse_example(example):\n",
    "    return tf.io.parse_single_example(example, feature_description)\n",
    "\n",
    "def parse_tensor(item):\n",
    "    img_raw = item.get('img_raw')\n",
    "    gt = item.get('gt')\n",
    "    img_raw = tf.io.parse_tensor(img_raw, tf.string)\n",
    "    img = tf.io.decode_jpeg(img_raw)\n",
    "    gt = tf.io.parse_tensor(gt, tf.string)\n",
    "    return (img, gt)\n",
    "\n",
    "ds = ds.map(parse_example)\n",
    "ds = ds.map(parse_tensor)\n",
    "\n",
    "for item in ds.take(1):\n",
    "    print(item[0].shape, item[1].shape)"
   ]
  },
  {
   "cell_type": "code",
   "execution_count": null,
   "metadata": {},
   "outputs": [],
   "source": [
    "image_size = 640\n"
   ]
  },
  {
   "cell_type": "code",
   "execution_count": null,
   "metadata": {},
   "outputs": [],
   "source": []
  }
 ],
 "metadata": {
  "kernelspec": {
   "display_name": "",
   "name": ""
  },
  "language_info": {
   "codemirror_mode": {
    "name": "ipython",
    "version": 3
   },
   "file_extension": ".py",
   "mimetype": "text/x-python",
   "name": "python",
   "nbconvert_exporter": "python",
   "pygments_lexer": "ipython3",
   "version": "3.7.6"
  }
 },
 "nbformat": 4,
 "nbformat_minor": 4
}
