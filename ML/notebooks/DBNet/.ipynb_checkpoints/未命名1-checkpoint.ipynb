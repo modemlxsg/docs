{
 "cells": [
  {
   "cell_type": "code",
   "execution_count": 1,
   "metadata": {},
   "outputs": [],
   "source": [
    "import numpy as np"
   ]
  },
  {
   "cell_type": "code",
   "execution_count": 23,
   "metadata": {},
   "outputs": [],
   "source": [
    "    def distance(xs, ys, point_1, point_2):\n",
    "        '''\n",
    "        compute the distance from point to a line\n",
    "        ys: coordinates in the first axis\n",
    "        xs: coordinates in the second axis\n",
    "        point_1, point_2: (x, y), the end of the line\n",
    "        '''\n",
    "        height, width = xs.shape[:2]\n",
    "        print(height,width)\n",
    "        square_distance_1 = np.square(xs - point_1[0]) + np.square(ys - point_1[1])\n",
    "        print(square_distance_1)\n",
    "        square_distance_2 = np.square(xs - point_2[0]) + np.square(ys - point_2[1])\n",
    "        print(square_distance_2)\n",
    "        square_distance = np.square(point_1[0] - point_2[0]) + np.square(point_1[1] - point_2[1])\n",
    "        print(square_distance)\n",
    "        \n",
    "        cosin = (square_distance - square_distance_1 - square_distance_2) / \\\n",
    "            (2 * np.sqrt(square_distance_1 * square_distance_2))\n",
    "        print(cosin)\n",
    "        \n",
    "        square_sin = 1 - np.square(cosin)\n",
    "        square_sin = np.nan_to_num(square_sin)\n",
    "        result = np.sqrt(square_distance_1 * square_distance_2 *square_sin / square_distance)\n",
    "        print(result)\n",
    "\n",
    "        result[cosin < 0] = np.sqrt(np.fmin(square_distance_1, square_distance_2))[cosin < 0]\n",
    "        # self.extend_line(point_1, point_2, result)\n",
    "        return result"
   ]
  },
  {
   "cell_type": "code",
   "execution_count": 24,
   "metadata": {},
   "outputs": [],
   "source": [
    "xs = np.array([[1,2]])\n",
    "ys = np.array([[1,2]])\n",
    "point_1 = np.array([0,1])\n",
    "point_2 = np.array([1,0])"
   ]
  },
  {
   "cell_type": "code",
   "execution_count": 25,
   "metadata": {},
   "outputs": [
    {
     "name": "stdout",
     "output_type": "stream",
     "text": [
      "1 2\n",
      "[[1.  0.5]]\n",
      "[[1.  0.5]]\n",
      "2\n",
      "[[0. 1.]]\n",
      "[[0.70710678 0.        ]]\n"
     ]
    },
    {
     "data": {
      "text/plain": [
       "array([[0.70710678, 0.        ]])"
      ]
     },
     "execution_count": 25,
     "metadata": {},
     "output_type": "execute_result"
    }
   ],
   "source": [
    "distance(xs,ys,point_1,point_2)"
   ]
  },
  {
   "cell_type": "code",
   "execution_count": null,
   "metadata": {},
   "outputs": [],
   "source": []
  }
 ],
 "metadata": {
  "kernelspec": {
   "display_name": "Python 3",
   "language": "python",
   "name": "python3"
  },
  "language_info": {
   "codemirror_mode": {
    "name": "ipython",
    "version": 3
   },
   "file_extension": ".py",
   "mimetype": "text/x-python",
   "name": "python",
   "nbconvert_exporter": "python",
   "pygments_lexer": "ipython3",
   "version": "3.7.6"
  }
 },
 "nbformat": 4,
 "nbformat_minor": 4
}
