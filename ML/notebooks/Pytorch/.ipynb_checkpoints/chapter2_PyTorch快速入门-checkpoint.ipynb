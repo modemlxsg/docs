{
  "nbformat": 4,
  "nbformat_minor": 0,
  "metadata": {
    "kernelspec": {
      "display_name": "Python 2",
      "language": "python",
      "name": "python2"
    },
    "language_info": {
      "codemirror_mode": {
        "name": "ipython",
        "version": 2
      },
      "file_extension": ".py",
      "mimetype": "text/x-python",
      "name": "python",
      "nbconvert_exporter": "python",
      "pygments_lexer": "ipython2",
      "version": "2.7.6"
    },
    "colab": {
      "name": "chapter2: PyTorch快速入门.ipynb",
      "provenance": [],
      "toc_visible": true
    },
    "widgets": {
      "application/vnd.jupyter.widget-state+json": {
        "f31172c87cf5456da383f00b74383c28": {
          "model_module": "@jupyter-widgets/controls",
          "model_name": "HBoxModel",
          "state": {
            "_view_name": "HBoxView",
            "_dom_classes": [],
            "_model_name": "HBoxModel",
            "_view_module": "@jupyter-widgets/controls",
            "_model_module_version": "1.5.0",
            "_view_count": null,
            "_view_module_version": "1.5.0",
            "box_style": "",
            "layout": "IPY_MODEL_1d9d5b5d739944f39d69645496f14c14",
            "_model_module": "@jupyter-widgets/controls",
            "children": [
              "IPY_MODEL_036d12d9465947f9bf5f6bd3feb8f1d3",
              "IPY_MODEL_e57126f6842e4bbfad5235962bff1b15"
            ]
          }
        },
        "1d9d5b5d739944f39d69645496f14c14": {
          "model_module": "@jupyter-widgets/base",
          "model_name": "LayoutModel",
          "state": {
            "_view_name": "LayoutView",
            "grid_template_rows": null,
            "right": null,
            "justify_content": null,
            "_view_module": "@jupyter-widgets/base",
            "_model_module_version": "1.2.0",
            "_view_count": null,
            "flex_flow": null,
            "min_width": null,
            "border": null,
            "align_items": null,
            "bottom": null,
            "_model_module": "@jupyter-widgets/base",
            "top": null,
            "grid_column": null,
            "width": null,
            "overflow_x": null,
            "grid_auto_flow": null,
            "grid_area": null,
            "grid_template_columns": null,
            "flex": null,
            "_model_name": "LayoutModel",
            "justify_items": null,
            "grid_row": null,
            "max_height": null,
            "align_content": null,
            "visibility": null,
            "overflow": null,
            "height": null,
            "min_height": null,
            "padding": null,
            "grid_auto_rows": null,
            "grid_gap": null,
            "overflow_y": null,
            "max_width": null,
            "order": null,
            "_view_module_version": "1.2.0",
            "align_self": null,
            "grid_template_areas": null,
            "object_position": null,
            "object_fit": null,
            "grid_auto_columns": null,
            "margin": null,
            "display": null,
            "left": null
          }
        },
        "036d12d9465947f9bf5f6bd3feb8f1d3": {
          "model_module": "@jupyter-widgets/controls",
          "model_name": "IntProgressModel",
          "state": {
            "_view_name": "ProgressView",
            "style": "IPY_MODEL_caa194a8e3b145609f93a7a91dcc7539",
            "_view_module": "@jupyter-widgets/controls",
            "_dom_classes": [],
            "orientation": "horizontal",
            "min": 0,
            "bar_style": "success",
            "max": 1,
            "_model_name": "IntProgressModel",
            "_model_module_version": "1.5.0",
            "value": 1,
            "_view_count": null,
            "_view_module_version": "1.5.0",
            "description_tooltip": null,
            "_model_module": "@jupyter-widgets/controls",
            "layout": "IPY_MODEL_2bf9c7df3ef148b5b5cd5bbabe36a796",
            "description": ""
          }
        },
        "e57126f6842e4bbfad5235962bff1b15": {
          "model_module": "@jupyter-widgets/controls",
          "model_name": "HTMLModel",
          "state": {
            "_view_name": "HTMLView",
            "style": "IPY_MODEL_3e0d21ef236642a09dfc36a01c8676f2",
            "_dom_classes": [],
            "description": "",
            "_model_name": "HTMLModel",
            "placeholder": "​",
            "_view_module": "@jupyter-widgets/controls",
            "_model_module_version": "1.5.0",
            "value": "170500096it [00:09, 18122541.76it/s]",
            "_view_count": null,
            "_view_module_version": "1.5.0",
            "description_tooltip": null,
            "_model_module": "@jupyter-widgets/controls",
            "layout": "IPY_MODEL_672a16133dbb4791a13a25d639eb7511"
          }
        },
        "caa194a8e3b145609f93a7a91dcc7539": {
          "model_module": "@jupyter-widgets/controls",
          "model_name": "ProgressStyleModel",
          "state": {
            "_view_name": "StyleView",
            "_model_name": "ProgressStyleModel",
            "description_width": "",
            "_view_module": "@jupyter-widgets/base",
            "_model_module_version": "1.5.0",
            "_view_count": null,
            "_view_module_version": "1.2.0",
            "bar_color": null,
            "_model_module": "@jupyter-widgets/controls"
          }
        },
        "2bf9c7df3ef148b5b5cd5bbabe36a796": {
          "model_module": "@jupyter-widgets/base",
          "model_name": "LayoutModel",
          "state": {
            "_view_name": "LayoutView",
            "grid_template_rows": null,
            "right": null,
            "justify_content": null,
            "_view_module": "@jupyter-widgets/base",
            "_model_module_version": "1.2.0",
            "_view_count": null,
            "flex_flow": null,
            "min_width": null,
            "border": null,
            "align_items": null,
            "bottom": null,
            "_model_module": "@jupyter-widgets/base",
            "top": null,
            "grid_column": null,
            "width": null,
            "overflow_x": null,
            "grid_auto_flow": null,
            "grid_area": null,
            "grid_template_columns": null,
            "flex": null,
            "_model_name": "LayoutModel",
            "justify_items": null,
            "grid_row": null,
            "max_height": null,
            "align_content": null,
            "visibility": null,
            "overflow": null,
            "height": null,
            "min_height": null,
            "padding": null,
            "grid_auto_rows": null,
            "grid_gap": null,
            "overflow_y": null,
            "max_width": null,
            "order": null,
            "_view_module_version": "1.2.0",
            "align_self": null,
            "grid_template_areas": null,
            "object_position": null,
            "object_fit": null,
            "grid_auto_columns": null,
            "margin": null,
            "display": null,
            "left": null
          }
        },
        "3e0d21ef236642a09dfc36a01c8676f2": {
          "model_module": "@jupyter-widgets/controls",
          "model_name": "DescriptionStyleModel",
          "state": {
            "_view_name": "StyleView",
            "_model_name": "DescriptionStyleModel",
            "description_width": "",
            "_view_module": "@jupyter-widgets/base",
            "_model_module_version": "1.5.0",
            "_view_count": null,
            "_view_module_version": "1.2.0",
            "_model_module": "@jupyter-widgets/controls"
          }
        },
        "672a16133dbb4791a13a25d639eb7511": {
          "model_module": "@jupyter-widgets/base",
          "model_name": "LayoutModel",
          "state": {
            "_view_name": "LayoutView",
            "grid_template_rows": null,
            "right": null,
            "justify_content": null,
            "_view_module": "@jupyter-widgets/base",
            "_model_module_version": "1.2.0",
            "_view_count": null,
            "flex_flow": null,
            "min_width": null,
            "border": null,
            "align_items": null,
            "bottom": null,
            "_model_module": "@jupyter-widgets/base",
            "top": null,
            "grid_column": null,
            "width": null,
            "overflow_x": null,
            "grid_auto_flow": null,
            "grid_area": null,
            "grid_template_columns": null,
            "flex": null,
            "_model_name": "LayoutModel",
            "justify_items": null,
            "grid_row": null,
            "max_height": null,
            "align_content": null,
            "visibility": null,
            "overflow": null,
            "height": null,
            "min_height": null,
            "padding": null,
            "grid_auto_rows": null,
            "grid_gap": null,
            "overflow_y": null,
            "max_width": null,
            "order": null,
            "_view_module_version": "1.2.0",
            "align_self": null,
            "grid_template_areas": null,
            "object_position": null,
            "object_fit": null,
            "grid_auto_columns": null,
            "margin": null,
            "display": null,
            "left": null
          }
        }
      }
    }
  },
  "cells": [
    {
      "cell_type": "markdown",
      "metadata": {
        "id": "8SOvqE7_rx2s",
        "colab_type": "text"
      },
      "source": [
        "## 2.2 PyTorch第一步\n",
        "\n",
        "PyTorch的简洁设计使得它入门很简单，在深入介绍PyTorch之前，本节将先介绍一些PyTorch的基础知识，使得读者能够对PyTorch有一个大致的了解，并能够用PyTorch搭建一个简单的神经网络。部分内容读者可能暂时不太理解，可先不予以深究，本书的第3章和第4章将会对此进行深入讲解。\n",
        "\n",
        "本节内容参考了PyTorch官方教程[^1]并做了相应的增删修改，使得内容更贴合新版本的PyTorch接口，同时也更适合新手快速入门。另外本书需要读者先掌握基础的Numpy使用，其他相关知识推荐读者参考CS231n的教程[^2]。\n",
        "\n",
        "[^1]: http://pytorch.org/tutorials/beginner/deep_learning_60min_blitz.html\n",
        "[^2]: http://cs231n.github.io/python-numpy-tutorial/"
      ]
    },
    {
      "cell_type": "markdown",
      "metadata": {
        "id": "Lz9pY9oNrx2w",
        "colab_type": "text"
      },
      "source": [
        "### Tensor\n",
        "\n",
        "Tensor是PyTorch中重要的数据结构，可认为是一个高维数组。它可以是一个数（标量）、一维数组（向量）、二维数组（矩阵）以及更高维的数组。Tensor和Numpy的ndarrays类似，但Tensor可以使用GPU进行加速。Tensor的使用和Numpy及Matlab的接口十分相似，下面通过几个例子来看看Tensor的基本使用。"
      ]
    },
    {
      "cell_type": "code",
      "metadata": {
        "id": "mC-fgc7Zrx2y",
        "colab_type": "code",
        "colab": {
          "base_uri": "https://localhost:8080/",
          "height": 34
        },
        "outputId": "56bb9504-ab24-4cce-b011-5afd0fc26ac4"
      },
      "source": [
        " from __future__ import print_function\n",
        "import torch as t\n",
        "t.__version__"
      ],
      "execution_count": 1,
      "outputs": [
        {
          "output_type": "execute_result",
          "data": {
            "text/plain": [
              "'1.4.0'"
            ]
          },
          "metadata": {
            "tags": []
          },
          "execution_count": 1
        }
      ]
    },
    {
      "cell_type": "code",
      "metadata": {
        "id": "fW1UN7aasJPf",
        "colab_type": "code",
        "colab": {
          "base_uri": "https://localhost:8080/",
          "height": 101
        },
        "outputId": "f49e4fae-5c3f-4cbf-d514-883509ac16a7"
      },
      "source": [
        "t.Tensor(5,3)"
      ],
      "execution_count": 3,
      "outputs": [
        {
          "output_type": "execute_result",
          "data": {
            "text/plain": [
              "tensor([[-8.5297e+20,  3.0652e-41,  4.7487e+09],\n",
              "        [ 4.5857e-41,  4.9707e+09,  4.5857e-41],\n",
              "        [ 4.9711e+09,  4.5857e-41, -2.7431e-17],\n",
              "        [ 4.5857e-41, -1.3722e-21,  4.5857e-41],\n",
              "        [ 4.9034e+09,  4.5857e-41,  4.9036e+09]])"
            ]
          },
          "metadata": {
            "tags": []
          },
          "execution_count": 3
        }
      ]
    },
    {
      "cell_type": "code",
      "metadata": {
        "id": "kQohU4OBrx24",
        "colab_type": "code",
        "colab": {
          "base_uri": "https://localhost:8080/",
          "height": 50
        },
        "outputId": "141d2a68-25aa-45ad-d8e5-5d2e09fe16cd"
      },
      "source": [
        "# 构建 5x3 矩阵，只是分配了空间，未初始化\n",
        "x = t.Tensor(5, 3)\n",
        "\n",
        "x = t.Tensor([[1,2],[3,4]])\n",
        "x"
      ],
      "execution_count": 2,
      "outputs": [
        {
          "output_type": "execute_result",
          "data": {
            "text/plain": [
              "tensor([[1., 2.],\n",
              "        [3., 4.]])"
            ]
          },
          "metadata": {
            "tags": []
          },
          "execution_count": 2
        }
      ]
    },
    {
      "cell_type": "code",
      "metadata": {
        "id": "93zcjbOhrx27",
        "colab_type": "code",
        "colab": {
          "base_uri": "https://localhost:8080/",
          "height": 101
        },
        "outputId": "4d3f13bc-e663-428e-fc49-f1dc29d7df68"
      },
      "source": [
        "# 使用[0,1]均匀分布随机初始化二维数组\n",
        "x = t.rand(5, 3)  \n",
        "x"
      ],
      "execution_count": 4,
      "outputs": [
        {
          "output_type": "execute_result",
          "data": {
            "text/plain": [
              "tensor([[0.1021, 0.9308, 0.5693],\n",
              "        [0.2945, 0.6201, 0.3685],\n",
              "        [0.7534, 0.6643, 0.9855],\n",
              "        [0.9802, 0.4943, 0.4553],\n",
              "        [0.6893, 0.1221, 0.8100]])"
            ]
          },
          "metadata": {
            "tags": []
          },
          "execution_count": 4
        }
      ]
    },
    {
      "cell_type": "code",
      "metadata": {
        "id": "3a8PbFL8rx3A",
        "colab_type": "code",
        "colab": {
          "base_uri": "https://localhost:8080/",
          "height": 50
        },
        "outputId": "c9072b91-a975-4d3f-bbc3-f918f866826d"
      },
      "source": [
        "print(x.size()) # 查看x的形状\n",
        "x.size()[1], x.size(1) # 查看列的个数, 两种写法等价"
      ],
      "execution_count": 5,
      "outputs": [
        {
          "output_type": "stream",
          "text": [
            "torch.Size([5, 3])\n"
          ],
          "name": "stdout"
        },
        {
          "output_type": "execute_result",
          "data": {
            "text/plain": [
              "(3, 3)"
            ]
          },
          "metadata": {
            "tags": []
          },
          "execution_count": 5
        }
      ]
    },
    {
      "cell_type": "markdown",
      "metadata": {
        "id": "_fCDktZvrx3E",
        "colab_type": "text"
      },
      "source": [
        "`torch.Size` 是tuple对象的子类，因此它支持tuple的所有操作，如x.size()[0]"
      ]
    },
    {
      "cell_type": "code",
      "metadata": {
        "id": "e5TXVXbxrx3G",
        "colab_type": "code",
        "colab": {
          "base_uri": "https://localhost:8080/",
          "height": 101
        },
        "outputId": "de0d96c0-fd7c-4155-8a31-531948224c4a"
      },
      "source": [
        "y = t.rand(5, 3)\n",
        "# 加法的第一种写法\n",
        "x + y"
      ],
      "execution_count": 6,
      "outputs": [
        {
          "output_type": "execute_result",
          "data": {
            "text/plain": [
              "tensor([[0.4307, 1.2789, 1.2368],\n",
              "        [0.3093, 0.7473, 0.5204],\n",
              "        [1.7523, 0.8778, 1.0336],\n",
              "        [1.8829, 1.1191, 0.4953],\n",
              "        [1.2553, 0.8349, 1.3575]])"
            ]
          },
          "metadata": {
            "tags": []
          },
          "execution_count": 6
        }
      ]
    },
    {
      "cell_type": "code",
      "metadata": {
        "id": "ERSpVrjBrx3K",
        "colab_type": "code",
        "colab": {
          "base_uri": "https://localhost:8080/",
          "height": 101
        },
        "outputId": "7463a202-7a6a-4337-9cbe-40259a8ad64d"
      },
      "source": [
        "# 加法的第二种写法\n",
        "t.add(x, y)"
      ],
      "execution_count": 7,
      "outputs": [
        {
          "output_type": "execute_result",
          "data": {
            "text/plain": [
              "tensor([[0.4307, 1.2789, 1.2368],\n",
              "        [0.3093, 0.7473, 0.5204],\n",
              "        [1.7523, 0.8778, 1.0336],\n",
              "        [1.8829, 1.1191, 0.4953],\n",
              "        [1.2553, 0.8349, 1.3575]])"
            ]
          },
          "metadata": {
            "tags": []
          },
          "execution_count": 7
        }
      ]
    },
    {
      "cell_type": "code",
      "metadata": {
        "id": "c44FdKFarx3U",
        "colab_type": "code",
        "colab": {
          "base_uri": "https://localhost:8080/",
          "height": 101
        },
        "outputId": "02754ff1-6acd-4517-d8df-901d510026d3"
      },
      "source": [
        "# 加法的第三种写法：指定加法结果的输出目标为result\n",
        "result = t.Tensor(5, 3) # 预先分配空间\n",
        "t.add(x, y, out=result) # 输入到result\n",
        "result"
      ],
      "execution_count": 8,
      "outputs": [
        {
          "output_type": "execute_result",
          "data": {
            "text/plain": [
              "tensor([[0.4307, 1.2789, 1.2368],\n",
              "        [0.3093, 0.7473, 0.5204],\n",
              "        [1.7523, 0.8778, 1.0336],\n",
              "        [1.8829, 1.1191, 0.4953],\n",
              "        [1.2553, 0.8349, 1.3575]])"
            ]
          },
          "metadata": {
            "tags": []
          },
          "execution_count": 8
        }
      ]
    },
    {
      "cell_type": "code",
      "metadata": {
        "id": "ULLZPoMnrx3X",
        "colab_type": "code",
        "colab": {
          "base_uri": "https://localhost:8080/",
          "height": 319
        },
        "outputId": "71169a18-41b8-4f44-b809-74e9e96b4cb1"
      },
      "source": [
        "print('最初y')\n",
        "print(y)\n",
        "\n",
        "print('第一种加法，y的结果')\n",
        "y.add(x) # 普通加法，不改变y的内容\n",
        "print(y)\n",
        "\n",
        "print('第二种加法，y的结果')\n",
        "y.add_(x) # inplace 加法，y变了\n",
        "print(y)"
      ],
      "execution_count": 9,
      "outputs": [
        {
          "output_type": "stream",
          "text": [
            "最初y\n",
            "tensor([[0.3286, 0.3481, 0.6676],\n",
            "        [0.0148, 0.1272, 0.1518],\n",
            "        [0.9989, 0.2135, 0.0480],\n",
            "        [0.9027, 0.6248, 0.0400],\n",
            "        [0.5660, 0.7128, 0.5475]])\n",
            "第一种加法，y的结果\n",
            "tensor([[0.3286, 0.3481, 0.6676],\n",
            "        [0.0148, 0.1272, 0.1518],\n",
            "        [0.9989, 0.2135, 0.0480],\n",
            "        [0.9027, 0.6248, 0.0400],\n",
            "        [0.5660, 0.7128, 0.5475]])\n",
            "第二种加法，y的结果\n",
            "tensor([[0.4307, 1.2789, 1.2368],\n",
            "        [0.3093, 0.7473, 0.5204],\n",
            "        [1.7523, 0.8778, 1.0336],\n",
            "        [1.8829, 1.1191, 0.4953],\n",
            "        [1.2553, 0.8349, 1.3575]])\n"
          ],
          "name": "stdout"
        }
      ]
    },
    {
      "cell_type": "markdown",
      "metadata": {
        "id": "aiQhneGwrx3b",
        "colab_type": "text"
      },
      "source": [
        "注意，函数名后面带下划线**`_`** 的函数会修改Tensor本身。例如，`x.add_(y)`和`x.t_()`会改变 `x`，但`x.add(y)`和`x.t()`返回一个新的Tensor， 而`x`不变。"
      ]
    },
    {
      "cell_type": "code",
      "metadata": {
        "id": "0q4Jl1cprx3d",
        "colab_type": "code",
        "colab": {
          "base_uri": "https://localhost:8080/",
          "height": 34
        },
        "outputId": "66c3ce86-ba91-42c7-9810-e8d95dfeed69"
      },
      "source": [
        "# Tensor的选取操作与Numpy类似\n",
        "x[:, 1]"
      ],
      "execution_count": 10,
      "outputs": [
        {
          "output_type": "execute_result",
          "data": {
            "text/plain": [
              "tensor([0.9308, 0.6201, 0.6643, 0.4943, 0.1221])"
            ]
          },
          "metadata": {
            "tags": []
          },
          "execution_count": 10
        }
      ]
    },
    {
      "cell_type": "markdown",
      "metadata": {
        "id": "cwYEAvbarx3i",
        "colab_type": "text"
      },
      "source": [
        "Tensor还支持很多操作，包括数学运算、线性代数、选择、切片等等，其接口设计与Numpy极为相似。更详细的使用方法，会在第三章系统讲解。\n",
        "\n",
        "Tensor和Numpy的数组之间的互操作非常容易且快速。对于Tensor不支持的操作，可以先转为Numpy数组处理，之后再转回Tensor。c\n",
        "\n"
      ]
    },
    {
      "cell_type": "code",
      "metadata": {
        "id": "MuCoPRzjrx3i",
        "colab_type": "code",
        "colab": {
          "base_uri": "https://localhost:8080/",
          "height": 34
        },
        "outputId": "1dd6a9e0-5f93-496e-851b-6999bf6a2bb0"
      },
      "source": [
        "a = t.ones(5) # 新建一个全1的Tensor\n",
        "a"
      ],
      "execution_count": 11,
      "outputs": [
        {
          "output_type": "execute_result",
          "data": {
            "text/plain": [
              "tensor([1., 1., 1., 1., 1.])"
            ]
          },
          "metadata": {
            "tags": []
          },
          "execution_count": 11
        }
      ]
    },
    {
      "cell_type": "code",
      "metadata": {
        "id": "iW1-oiIjrx3m",
        "colab_type": "code",
        "colab": {
          "base_uri": "https://localhost:8080/",
          "height": 34
        },
        "outputId": "344c133c-d0c5-401e-c020-4a9ed60f4bb2"
      },
      "source": [
        "b = a.numpy() # Tensor -> Numpy\n",
        "b"
      ],
      "execution_count": 12,
      "outputs": [
        {
          "output_type": "execute_result",
          "data": {
            "text/plain": [
              "array([1., 1., 1., 1., 1.], dtype=float32)"
            ]
          },
          "metadata": {
            "tags": []
          },
          "execution_count": 12
        }
      ]
    },
    {
      "cell_type": "code",
      "metadata": {
        "id": "YnojwJu-rx3p",
        "colab_type": "code",
        "colab": {
          "base_uri": "https://localhost:8080/",
          "height": 50
        },
        "outputId": "385d686f-610b-4672-88b1-88602719280f"
      },
      "source": [
        "import numpy as np\n",
        "a = np.ones(5)\n",
        "b = t.from_numpy(a) # Numpy->Tensor\n",
        "print(a)\n",
        "print(b) "
      ],
      "execution_count": 13,
      "outputs": [
        {
          "output_type": "stream",
          "text": [
            "[1. 1. 1. 1. 1.]\n",
            "tensor([1., 1., 1., 1., 1.], dtype=torch.float64)\n"
          ],
          "name": "stdout"
        }
      ]
    },
    {
      "cell_type": "markdown",
      "metadata": {
        "id": "3CgWZP92rx3s",
        "colab_type": "text"
      },
      "source": [
        "Tensor和numpy对象共享内存，所以他们之间的转换很快，而且几乎不会消耗什么资源。但这也意味着，如果其中一个变了，另外一个也会随之改变。"
      ]
    },
    {
      "cell_type": "code",
      "metadata": {
        "scrolled": true,
        "id": "nl8kCtYKrx3t",
        "colab_type": "code",
        "colab": {
          "base_uri": "https://localhost:8080/",
          "height": 50
        },
        "outputId": "2ec90229-6121-4d67-86ce-dffc8c54fbbe"
      },
      "source": [
        "b.add_(1) # 以`_`结尾的函数会修改自身\n",
        "print(a)\n",
        "print(b) # Tensor和Numpy共享内存"
      ],
      "execution_count": 14,
      "outputs": [
        {
          "output_type": "stream",
          "text": [
            "[2. 2. 2. 2. 2.]\n",
            "tensor([2., 2., 2., 2., 2.], dtype=torch.float64)\n"
          ],
          "name": "stdout"
        }
      ]
    },
    {
      "cell_type": "markdown",
      "metadata": {
        "id": "6Diw9_mKrx3w",
        "colab_type": "text"
      },
      "source": [
        "如果你想获取某一个元素的值，可以使用`scalar.item`。 直接`tensor[idx]`得到的还是一个tensor: 一个0-dim 的tensor，一般称为scalar."
      ]
    },
    {
      "cell_type": "code",
      "metadata": {
        "id": "nf_Nl63jrx3x",
        "colab_type": "code",
        "colab": {
          "base_uri": "https://localhost:8080/",
          "height": 34
        },
        "outputId": "a0db6a02-bfc1-4c55-b827-d3026f77cb6a"
      },
      "source": [
        "scalar = b[0]\n",
        "scalar"
      ],
      "execution_count": 15,
      "outputs": [
        {
          "output_type": "execute_result",
          "data": {
            "text/plain": [
              "tensor(2., dtype=torch.float64)"
            ]
          },
          "metadata": {
            "tags": []
          },
          "execution_count": 15
        }
      ]
    },
    {
      "cell_type": "code",
      "metadata": {
        "id": "RxRH5VpZrx32",
        "colab_type": "code",
        "colab": {
          "base_uri": "https://localhost:8080/",
          "height": 34
        },
        "outputId": "4f2cc65e-bd03-445c-de66-92b60d36c738"
      },
      "source": [
        "scalar.size() #0-dim"
      ],
      "execution_count": 16,
      "outputs": [
        {
          "output_type": "execute_result",
          "data": {
            "text/plain": [
              "torch.Size([])"
            ]
          },
          "metadata": {
            "tags": []
          },
          "execution_count": 16
        }
      ]
    },
    {
      "cell_type": "code",
      "metadata": {
        "id": "QuyPcuwMrx36",
        "colab_type": "code",
        "colab": {
          "base_uri": "https://localhost:8080/",
          "height": 34
        },
        "outputId": "3a18bd76-43e1-4817-acae-85af6d3ceb53"
      },
      "source": [
        "scalar.item() # 使用scalar.item()能从中取出python对象的数值"
      ],
      "execution_count": 17,
      "outputs": [
        {
          "output_type": "execute_result",
          "data": {
            "text/plain": [
              "2.0"
            ]
          },
          "metadata": {
            "tags": []
          },
          "execution_count": 17
        }
      ]
    },
    {
      "cell_type": "code",
      "metadata": {
        "id": "fHHJYawxrx39",
        "colab_type": "code",
        "colab": {
          "base_uri": "https://localhost:8080/",
          "height": 34
        },
        "outputId": "076fa7c8-ee56-43cb-bd0b-432db548d6be"
      },
      "source": [
        "tensor = t.tensor([2]) # 注意和scalar的区别\n",
        "tensor,scalar"
      ],
      "execution_count": 18,
      "outputs": [
        {
          "output_type": "execute_result",
          "data": {
            "text/plain": [
              "(tensor([2]), tensor(2., dtype=torch.float64))"
            ]
          },
          "metadata": {
            "tags": []
          },
          "execution_count": 18
        }
      ]
    },
    {
      "cell_type": "code",
      "metadata": {
        "id": "nuWA95Q8rx4B",
        "colab_type": "code",
        "colab": {
          "base_uri": "https://localhost:8080/",
          "height": 34
        },
        "outputId": "8c86e52f-8457-4e36-f795-6eb64e697762"
      },
      "source": [
        "tensor.size(),scalar.size()"
      ],
      "execution_count": 19,
      "outputs": [
        {
          "output_type": "execute_result",
          "data": {
            "text/plain": [
              "(torch.Size([1]), torch.Size([]))"
            ]
          },
          "metadata": {
            "tags": []
          },
          "execution_count": 19
        }
      ]
    },
    {
      "cell_type": "code",
      "metadata": {
        "id": "MY3aqP-7rx4F",
        "colab_type": "code",
        "colab": {
          "base_uri": "https://localhost:8080/",
          "height": 34
        },
        "outputId": "3a0e12a4-3ae2-4253-e791-b77fafe17d25"
      },
      "source": [
        "# 只有一个元素的tensor也可以调用`tensor.item()`\n",
        "tensor.item(), scalar.item()"
      ],
      "execution_count": 20,
      "outputs": [
        {
          "output_type": "execute_result",
          "data": {
            "text/plain": [
              "(2, 2.0)"
            ]
          },
          "metadata": {
            "tags": []
          },
          "execution_count": 20
        }
      ]
    },
    {
      "cell_type": "markdown",
      "metadata": {
        "id": "0VB1_XLnrx4K",
        "colab_type": "text"
      },
      "source": [
        "此外在pytorch中还有一个和`np.array` 很类似的接口: `torch.tensor`, 二者的使用十分类似。"
      ]
    },
    {
      "cell_type": "code",
      "metadata": {
        "id": "s_6w9Ovqrx4L",
        "colab_type": "code",
        "colab": {}
      },
      "source": [
        "tensor = t.tensor([3,4]) # 新建一个包含 3，4 两个元素的tensor"
      ],
      "execution_count": 0,
      "outputs": []
    },
    {
      "cell_type": "code",
      "metadata": {
        "id": "aff87INdrx4Q",
        "colab_type": "code",
        "colab": {
          "base_uri": "https://localhost:8080/",
          "height": 34
        },
        "outputId": "b4d49c22-151b-4aa1-e685-7851b3cd846e"
      },
      "source": [
        "scalar = t.tensor(3)\n",
        "scalar"
      ],
      "execution_count": 22,
      "outputs": [
        {
          "output_type": "execute_result",
          "data": {
            "text/plain": [
              "tensor(3)"
            ]
          },
          "metadata": {
            "tags": []
          },
          "execution_count": 22
        }
      ]
    },
    {
      "cell_type": "code",
      "metadata": {
        "id": "iZMMlU24rx4T",
        "colab_type": "code",
        "colab": {
          "base_uri": "https://localhost:8080/",
          "height": 34
        },
        "outputId": "56e73b87-0c6f-495c-b3e1-4a9a33e2a295"
      },
      "source": [
        "old_tensor = tensor\n",
        "new_tensor = old_tensor.clone()\n",
        "new_tensor[0] = 1111\n",
        "old_tensor, new_tensor"
      ],
      "execution_count": 23,
      "outputs": [
        {
          "output_type": "execute_result",
          "data": {
            "text/plain": [
              "(tensor([3, 4]), tensor([1111,    4]))"
            ]
          },
          "metadata": {
            "tags": []
          },
          "execution_count": 23
        }
      ]
    },
    {
      "cell_type": "markdown",
      "metadata": {
        "id": "6CIAKMVArx4W",
        "colab_type": "text"
      },
      "source": [
        "需要注意的是，`t.tensor()`或者`tensor.clone()`总是会进行数据拷贝，新tensor和原来的数据不再共享内存。所以如果你想共享内存的话，建议使用`torch.from_numpy()`或者`tensor.detach()`来新建一个tensor, 二者共享内存。"
      ]
    },
    {
      "cell_type": "code",
      "metadata": {
        "id": "kS_qBh_trx4Y",
        "colab_type": "code",
        "colab": {
          "base_uri": "https://localhost:8080/",
          "height": 34
        },
        "outputId": "9d75cc70-c408-407e-d39e-423809056340"
      },
      "source": [
        "new_tensor = old_tensor.detach()\n",
        "new_tensor[0] = 1111\n",
        "old_tensor, new_tensor"
      ],
      "execution_count": 24,
      "outputs": [
        {
          "output_type": "execute_result",
          "data": {
            "text/plain": [
              "(tensor([1111,    4]), tensor([1111,    4]))"
            ]
          },
          "metadata": {
            "tags": []
          },
          "execution_count": 24
        }
      ]
    },
    {
      "cell_type": "markdown",
      "metadata": {
        "id": "wbrnsMesrx4b",
        "colab_type": "text"
      },
      "source": [
        "Tensor可通过`.cuda` 方法转为GPU的Tensor，从而享受GPU带来的加速运算。"
      ]
    },
    {
      "cell_type": "code",
      "metadata": {
        "id": "H5F6nF2Grx4d",
        "colab_type": "code",
        "colab": {}
      },
      "source": [
        "# 在不支持CUDA的机器下，下一步还是在CPU上运行\n",
        "device = t.device(\"cuda:0\" if t.cuda.is_available() else \"cpu\")\n",
        "x = x.to(device)\n",
        "y = y.to(x.device)\n",
        "z = x+y"
      ],
      "execution_count": 0,
      "outputs": []
    },
    {
      "cell_type": "markdown",
      "metadata": {
        "id": "D5rfvvu4rx4g",
        "colab_type": "text"
      },
      "source": [
        "此外，还可以使用`tensor.cuda()` 的方式将tensor拷贝到gpu上，但是这种方式不太推荐。"
      ]
    },
    {
      "cell_type": "markdown",
      "metadata": {
        "id": "TcBb8B0wrx4g",
        "colab_type": "text"
      },
      "source": [
        "此处可能发现GPU运算的速度并未提升太多，这是因为x和y太小且运算也较为简单，而且将数据从内存转移到显存还需要花费额外的开销。GPU的优势需在大规模数据和复杂运算下才能体现出来。"
      ]
    },
    {
      "cell_type": "markdown",
      "metadata": {
        "id": "ryXMHbturx4i",
        "colab_type": "text"
      },
      "source": [
        "\n",
        "### autograd: 自动微分\n",
        "\n",
        "深度学习的算法本质上是通过反向传播求导数，而PyTorch的**`autograd`**模块则实现了此功能。在Tensor上的所有操作，autograd都能为它们自动提供微分，避免了手动计算导数的复杂过程。\n",
        " \n",
        "~~`autograd.Variable`是Autograd中的核心类，它简单封装了Tensor，并支持几乎所有Tensor有的操作。Tensor在被封装为Variable之后，可以调用它的`.backward`实现反向传播，自动计算所有梯度~~ ~~Variable的数据结构如图2-6所示。~~\n",
        "\n",
        "\n",
        "\n",
        "![图2-6:Variable的数据结构](https://github.com/chenyuntc/pytorch-book/blob/master/chapter02-quickstart/imgs/autograd_Variable.svg?raw=1)\n",
        "\n",
        "  *从0.4起, Variable 正式合并入Tensor, Variable 本来实现的自动微分功能，Tensor就能支持。读者还是可以使用Variable(tensor), 但是这个操作其实什么都没做。建议读者以后直接使用tensor*. \n",
        "  \n",
        "  要想使得Tensor使用autograd功能，只需要设置`tensor.requries_grad=True`. \n",
        "\n",
        "\n",
        "~~Variable主要包含三个属性。~~\n",
        "~~- `data`：保存Variable所包含的Tensor~~\n",
        "~~- `grad`：保存`data`对应的梯度，`grad`也是个Variable，而不是Tensor，它和`data`的形状一样。~~\n",
        "~~- `grad_fn`：指向一个`Function`对象，这个`Function`用来反向传播计算输入的梯度，具体细节会在下一章讲解。~~"
      ]
    },
    {
      "cell_type": "code",
      "metadata": {
        "scrolled": true,
        "id": "7CYCsc_9rx4j",
        "colab_type": "code",
        "colab": {
          "base_uri": "https://localhost:8080/",
          "height": 50
        },
        "outputId": "42562575-323b-4017-bc00-8339ae1a3864"
      },
      "source": [
        "# 为tensor设置 requires_grad 标识，代表着需要求导数\n",
        "# pytorch 会自动调用autograd 记录操作\n",
        "x = t.ones(2, 2, requires_grad=True)\n",
        "\n",
        "# 上一步等价于\n",
        "# x = t.ones(2,2)\n",
        "# x.requires_grad = True\n",
        "\n",
        "x"
      ],
      "execution_count": 26,
      "outputs": [
        {
          "output_type": "execute_result",
          "data": {
            "text/plain": [
              "tensor([[1., 1.],\n",
              "        [1., 1.]], requires_grad=True)"
            ]
          },
          "metadata": {
            "tags": []
          },
          "execution_count": 26
        }
      ]
    },
    {
      "cell_type": "code",
      "metadata": {
        "scrolled": true,
        "id": "984k5h_6rx4p",
        "colab_type": "code",
        "colab": {
          "base_uri": "https://localhost:8080/",
          "height": 34
        },
        "outputId": "de3be3b6-ffe6-48e4-ebfb-4ef7809a5326"
      },
      "source": [
        "y = x.sum()\n",
        "y"
      ],
      "execution_count": 27,
      "outputs": [
        {
          "output_type": "execute_result",
          "data": {
            "text/plain": [
              "tensor(4., grad_fn=<SumBackward0>)"
            ]
          },
          "metadata": {
            "tags": []
          },
          "execution_count": 27
        }
      ]
    },
    {
      "cell_type": "code",
      "metadata": {
        "id": "k7gLiZ9Trx4t",
        "colab_type": "code",
        "colab": {},
        "outputId": "f7fa2976-fd24-4256-811c-4a9a4c82af90"
      },
      "source": [
        "y.grad_fn"
      ],
      "execution_count": 0,
      "outputs": [
        {
          "output_type": "execute_result",
          "data": {
            "text/plain": [
              "<SumBackward0 at 0x7f63e55b7810>"
            ]
          },
          "metadata": {
            "tags": []
          },
          "execution_count": 29
        }
      ]
    },
    {
      "cell_type": "code",
      "metadata": {
        "id": "Ix2dS5WRrx4w",
        "colab_type": "code",
        "colab": {}
      },
      "source": [
        "y.backward() # 反向传播,计算梯度"
      ],
      "execution_count": 0,
      "outputs": []
    },
    {
      "cell_type": "code",
      "metadata": {
        "id": "UVNYIP3rrx4z",
        "colab_type": "code",
        "colab": {
          "base_uri": "https://localhost:8080/",
          "height": 50
        },
        "outputId": "1ee69c3b-11f1-48fc-ee56-344e5c2722b0"
      },
      "source": [
        "# y = x.sum() = (x[0][0] + x[0][1] + x[1][0] + x[1][1])\n",
        "# 每个值的梯度都为1\n",
        "x.grad "
      ],
      "execution_count": 29,
      "outputs": [
        {
          "output_type": "execute_result",
          "data": {
            "text/plain": [
              "tensor([[1., 1.],\n",
              "        [1., 1.]])"
            ]
          },
          "metadata": {
            "tags": []
          },
          "execution_count": 29
        }
      ]
    },
    {
      "cell_type": "markdown",
      "metadata": {
        "id": "Rpv_o_xOrx42",
        "colab_type": "text"
      },
      "source": [
        "注意：`grad`在反向传播过程中是累加的(accumulated)，这意味着每一次运行反向传播，梯度都会累加之前的梯度，所以反向传播之前需把梯度清零。"
      ]
    },
    {
      "cell_type": "code",
      "metadata": {
        "id": "CUkMaixIrx43",
        "colab_type": "code",
        "colab": {
          "base_uri": "https://localhost:8080/",
          "height": 50
        },
        "outputId": "d085acb9-7f0d-45ab-8fac-482ccc3be87d"
      },
      "source": [
        "y.backward()\n",
        "x.grad"
      ],
      "execution_count": 30,
      "outputs": [
        {
          "output_type": "execute_result",
          "data": {
            "text/plain": [
              "tensor([[2., 2.],\n",
              "        [2., 2.]])"
            ]
          },
          "metadata": {
            "tags": []
          },
          "execution_count": 30
        }
      ]
    },
    {
      "cell_type": "code",
      "metadata": {
        "scrolled": true,
        "id": "XqCY2L_8rx46",
        "colab_type": "code",
        "colab": {
          "base_uri": "https://localhost:8080/",
          "height": 50
        },
        "outputId": "fd42de86-4a5f-467e-c987-b0387f45c077"
      },
      "source": [
        "y.backward()\n",
        "x.grad"
      ],
      "execution_count": 31,
      "outputs": [
        {
          "output_type": "execute_result",
          "data": {
            "text/plain": [
              "tensor([[3., 3.],\n",
              "        [3., 3.]])"
            ]
          },
          "metadata": {
            "tags": []
          },
          "execution_count": 31
        }
      ]
    },
    {
      "cell_type": "code",
      "metadata": {
        "id": "eRPMmaTkrx49",
        "colab_type": "code",
        "colab": {
          "base_uri": "https://localhost:8080/",
          "height": 50
        },
        "outputId": "ac3d54c2-0291-44d1-dea9-deb80b304d52"
      },
      "source": [
        "# 以下划线结束的函数是inplace操作，会修改自身的值，就像add_\n",
        "x.grad.data.zero_()"
      ],
      "execution_count": 32,
      "outputs": [
        {
          "output_type": "execute_result",
          "data": {
            "text/plain": [
              "tensor([[0., 0.],\n",
              "        [0., 0.]])"
            ]
          },
          "metadata": {
            "tags": []
          },
          "execution_count": 32
        }
      ]
    },
    {
      "cell_type": "code",
      "metadata": {
        "id": "i61AWzv3rx5B",
        "colab_type": "code",
        "colab": {
          "base_uri": "https://localhost:8080/",
          "height": 50
        },
        "outputId": "ae1d1cb3-71bf-44de-a109-046cdcb8806f"
      },
      "source": [
        "y.backward()\n",
        "x.grad"
      ],
      "execution_count": 33,
      "outputs": [
        {
          "output_type": "execute_result",
          "data": {
            "text/plain": [
              "tensor([[1., 1.],\n",
              "        [1., 1.]])"
            ]
          },
          "metadata": {
            "tags": []
          },
          "execution_count": 33
        }
      ]
    },
    {
      "cell_type": "markdown",
      "metadata": {
        "id": "KlnTDv1jrx5H",
        "colab_type": "text"
      },
      "source": [
        "###  神经网络\n",
        "\n",
        "Autograd实现了反向传播功能，但是直接用来写深度学习的代码在很多情况下还是稍显复杂，torch.nn是专门为神经网络设计的模块化接口。nn构建于 Autograd之上，可用来定义和运行神经网络。nn.Module是nn中最重要的类，可把它看成是一个网络的封装，包含网络各层定义以及forward方法，调用forward(input)方法，可返回前向传播的结果。下面就以最早的卷积神经网络：LeNet为例，来看看如何用`nn.Module`实现。LeNet的网络结构如图2-7所示。\n",
        "\n",
        "![图2-7:LeNet网络结构](https://github.com/chenyuntc/pytorch-book/blob/master/chapter02-quickstart/imgs/nn_lenet.png?raw=1)\n",
        "\n",
        "这是一个基础的前向传播(feed-forward)网络: 接收输入，经过层层传递运算，得到输出。\n",
        "\n",
        "#### 定义网络\n",
        "\n",
        "定义网络时，需要继承`nn.Module`，并实现它的forward方法，把网络中具有可学习参数的层放在构造函数`__init__`中。如果某一层(如ReLU)不具有可学习的参数，则既可以放在构造函数中，也可以不放，但建议不放在其中，而在forward中使用`nn.functional`代替。"
      ]
    },
    {
      "cell_type": "code",
      "metadata": {
        "id": "zSyS0BcUrx5H",
        "colab_type": "code",
        "colab": {
          "base_uri": "https://localhost:8080/",
          "height": 134
        },
        "outputId": "3b5c20a5-3107-431a-c10d-b54340f38cdb"
      },
      "source": [
        "import torch.nn as nn\n",
        "import torch.nn.functional as F\n",
        "\n",
        "class Net(nn.Module):\n",
        "    def __init__(self):\n",
        "        # nn.Module子类的函数必须在构造函数中执行父类的构造函数\n",
        "        # 下式等价于nn.Module.__init__(self)\n",
        "        super(Net, self).__init__()\n",
        "        \n",
        "        # 卷积层 '1'表示输入图片为单通道, '6'表示输出通道数，'5'表示卷积核为5*5\n",
        "        self.conv1 = nn.Conv2d(1, 6, 5) \n",
        "        # 卷积层\n",
        "        self.conv2 = nn.Conv2d(6, 16, 5) \n",
        "        # 仿射层/全连接层，y = Wx + b\n",
        "        self.fc1   = nn.Linear(16*5*5, 120) \n",
        "        self.fc2   = nn.Linear(120, 84)\n",
        "        self.fc3   = nn.Linear(84, 10)\n",
        "\n",
        "    def forward(self, x): \n",
        "        # 卷积 -> 激活 -> 池化 \n",
        "        x = F.max_pool2d(F.relu(self.conv1(x)), (2, 2))\n",
        "        x = F.max_pool2d(F.relu(self.conv2(x)), 2) \n",
        "        # reshape，‘-1’表示自适应\n",
        "        x = x.view(x.size()[0], -1) \n",
        "        x = F.relu(self.fc1(x))\n",
        "        x = F.relu(self.fc2(x))\n",
        "        x = self.fc3(x)        \n",
        "        return x\n",
        "\n",
        "net = Net()\n",
        "print(net)"
      ],
      "execution_count": 34,
      "outputs": [
        {
          "output_type": "stream",
          "text": [
            "Net(\n",
            "  (conv1): Conv2d(1, 6, kernel_size=(5, 5), stride=(1, 1))\n",
            "  (conv2): Conv2d(6, 16, kernel_size=(5, 5), stride=(1, 1))\n",
            "  (fc1): Linear(in_features=400, out_features=120, bias=True)\n",
            "  (fc2): Linear(in_features=120, out_features=84, bias=True)\n",
            "  (fc3): Linear(in_features=84, out_features=10, bias=True)\n",
            ")\n"
          ],
          "name": "stdout"
        }
      ]
    },
    {
      "cell_type": "markdown",
      "metadata": {
        "id": "S7mEkf9xrx5K",
        "colab_type": "text"
      },
      "source": [
        "只要在nn.Module的子类中定义了forward函数，backward函数就会自动被实现(利用`autograd`)。在`forward` 函数中可使用任何tensor支持的函数，还可以使用if、for循环、print、log等Python语法，写法和标准的Python写法一致。\n",
        "\n",
        "网络的可学习参数通过`net.parameters()`返回，`net.named_parameters`可同时返回可学习的参数及名称。"
      ]
    },
    {
      "cell_type": "code",
      "metadata": {
        "id": "lwW6mElcrx5L",
        "colab_type": "code",
        "colab": {
          "base_uri": "https://localhost:8080/",
          "height": 34
        },
        "outputId": "8bfced81-98c6-4541-95de-911a88c75301"
      },
      "source": [
        "params = list(net.parameters())\n",
        "print(len(params))"
      ],
      "execution_count": 35,
      "outputs": [
        {
          "output_type": "stream",
          "text": [
            "10\n"
          ],
          "name": "stdout"
        }
      ]
    },
    {
      "cell_type": "code",
      "metadata": {
        "id": "j_lIjFxvrx5N",
        "colab_type": "code",
        "colab": {
          "base_uri": "https://localhost:8080/",
          "height": 185
        },
        "outputId": "0679f62e-2a13-42b2-cc1a-dd8adb7284b9"
      },
      "source": [
        "for name,parameters in net.named_parameters():\n",
        "    print(name,':',parameters.size())"
      ],
      "execution_count": 36,
      "outputs": [
        {
          "output_type": "stream",
          "text": [
            "conv1.weight : torch.Size([6, 1, 5, 5])\n",
            "conv1.bias : torch.Size([6])\n",
            "conv2.weight : torch.Size([16, 6, 5, 5])\n",
            "conv2.bias : torch.Size([16])\n",
            "fc1.weight : torch.Size([120, 400])\n",
            "fc1.bias : torch.Size([120])\n",
            "fc2.weight : torch.Size([84, 120])\n",
            "fc2.bias : torch.Size([84])\n",
            "fc3.weight : torch.Size([10, 84])\n",
            "fc3.bias : torch.Size([10])\n"
          ],
          "name": "stdout"
        }
      ]
    },
    {
      "cell_type": "markdown",
      "metadata": {
        "id": "pHRCFK2Prx5R",
        "colab_type": "text"
      },
      "source": [
        "forward函数的输入和输出都是Tensor。"
      ]
    },
    {
      "cell_type": "code",
      "metadata": {
        "scrolled": true,
        "id": "o7XTWaqzrx5S",
        "colab_type": "code",
        "colab": {
          "base_uri": "https://localhost:8080/",
          "height": 34
        },
        "outputId": "c48a8589-8c2c-457a-eb7d-465fae32be35"
      },
      "source": [
        "input = t.randn(1, 1, 32, 32)\n",
        "out = net(input)\n",
        "out.size()"
      ],
      "execution_count": 37,
      "outputs": [
        {
          "output_type": "execute_result",
          "data": {
            "text/plain": [
              "torch.Size([1, 10])"
            ]
          },
          "metadata": {
            "tags": []
          },
          "execution_count": 37
        }
      ]
    },
    {
      "cell_type": "code",
      "metadata": {
        "id": "w3ydw2U5rx5X",
        "colab_type": "code",
        "colab": {}
      },
      "source": [
        "net.zero_grad() # 所有参数的梯度清零\n",
        "out.backward(t.ones(1,10)) # 反向传播"
      ],
      "execution_count": 0,
      "outputs": []
    },
    {
      "cell_type": "markdown",
      "metadata": {
        "id": "w12VKgjYrx5a",
        "colab_type": "text"
      },
      "source": [
        "需要注意的是，torch.nn只支持mini-batches，不支持一次只输入一个样本，即一次必须是一个batch。但如果只想输入一个样本，则用 `input.unsqueeze(0)`将batch_size设为１。例如 `nn.Conv2d` 输入必须是4维的，形如$nSamples \\times nChannels \\times Height \\times Width$。可将nSample设为1，即$1 \\times nChannels \\times Height \\times Width$。"
      ]
    },
    {
      "cell_type": "markdown",
      "metadata": {
        "id": "OHJSri2urx5a",
        "colab_type": "text"
      },
      "source": [
        "#### 损失函数\n",
        "\n",
        "nn实现了神经网络中大多数的损失函数，例如nn.MSELoss用来计算均方误差，nn.CrossEntropyLoss用来计算交叉熵损失。"
      ]
    },
    {
      "cell_type": "code",
      "metadata": {
        "scrolled": true,
        "id": "WVgWR3Iorx5b",
        "colab_type": "code",
        "colab": {
          "base_uri": "https://localhost:8080/",
          "height": 34
        },
        "outputId": "6d3cbb86-13f8-497f-fdfb-8101d6ec990d"
      },
      "source": [
        "output = net(input)\n",
        "target = t.arange(0,10).view(1,10).float() \n",
        "criterion = nn.MSELoss()\n",
        "loss = criterion(output, target)\n",
        "loss # loss是个scalar"
      ],
      "execution_count": 39,
      "outputs": [
        {
          "output_type": "execute_result",
          "data": {
            "text/plain": [
              "tensor(28.4734, grad_fn=<MseLossBackward>)"
            ]
          },
          "metadata": {
            "tags": []
          },
          "execution_count": 39
        }
      ]
    },
    {
      "cell_type": "markdown",
      "metadata": {
        "id": "illgh8Jgrx5h",
        "colab_type": "text"
      },
      "source": [
        "如果对loss进行反向传播溯源(使用`gradfn`属性)，可看到它的计算图如下：\n",
        "\n",
        "```\n",
        "input -> conv2d -> relu -> maxpool2d -> conv2d -> relu -> maxpool2d  \n",
        "      -> view -> linear -> relu -> linear -> relu -> linear \n",
        "      -> MSELoss\n",
        "      -> loss\n",
        "```\n",
        "\n",
        "当调用`loss.backward()`时，该图会动态生成并自动微分，也即会自动计算图中参数(Parameter)的导数。"
      ]
    },
    {
      "cell_type": "code",
      "metadata": {
        "id": "LqYtW0PFrx5j",
        "colab_type": "code",
        "colab": {
          "base_uri": "https://localhost:8080/",
          "height": 84
        },
        "outputId": "adc309ce-13fb-4451-8a14-27c33f1794bc"
      },
      "source": [
        "# 运行.backward，观察调用之前和调用之后的grad\n",
        "net.zero_grad() # 把net中所有可学习参数的梯度清零\n",
        "print('反向传播之前 conv1.bias的梯度')\n",
        "print(net.conv1.bias.grad)\n",
        "loss.backward()\n",
        "print('反向传播之后 conv1.bias的梯度')\n",
        "print(net.conv1.bias.grad)"
      ],
      "execution_count": 40,
      "outputs": [
        {
          "output_type": "stream",
          "text": [
            "反向传播之前 conv1.bias的梯度\n",
            "tensor([0., 0., 0., 0., 0., 0.])\n",
            "反向传播之后 conv1.bias的梯度\n",
            "tensor([-0.0297, -0.0468, -0.0009,  0.0151,  0.0188, -0.0687])\n"
          ],
          "name": "stdout"
        }
      ]
    },
    {
      "cell_type": "markdown",
      "metadata": {
        "id": "1wiz7RwGrx5n",
        "colab_type": "text"
      },
      "source": [
        "#### 优化器"
      ]
    },
    {
      "cell_type": "markdown",
      "metadata": {
        "id": "4xmJB5D-rx5o",
        "colab_type": "text"
      },
      "source": [
        "在反向传播计算完所有参数的梯度后，还需要使用优化方法来更新网络的权重和参数，例如随机梯度下降法(SGD)的更新策略如下：\n",
        "```\n",
        "weight = weight - learning_rate * gradient\n",
        "```\n",
        "\n",
        "手动实现如下：\n",
        "\n",
        "```python\n",
        "learning_rate = 0.01\n",
        "for f in net.parameters():\n",
        "    f.data.sub_(f.grad.data * learning_rate)# inplace 减法\n",
        "```\n",
        "\n",
        "`torch.optim`中实现了深度学习中绝大多数的优化方法，例如RMSProp、Adam、SGD等，更便于使用，因此大多数时候并不需要手动写上述代码。"
      ]
    },
    {
      "cell_type": "code",
      "metadata": {
        "id": "Wdv-v2GVrx5p",
        "colab_type": "code",
        "colab": {}
      },
      "source": [
        "import torch.optim as optim\n",
        "#新建一个优化器，指定要调整的参数和学习率\n",
        "optimizer = optim.SGD(net.parameters(), lr = 0.01)\n",
        "\n",
        "# 在训练过程中\n",
        "# 先梯度清零(与net.zero_grad()效果一样)\n",
        "optimizer.zero_grad() \n",
        "\n",
        "# 计算损失\n",
        "output = net(input)\n",
        "loss = criterion(output, target)\n",
        "\n",
        "#反向传播\n",
        "loss.backward()\n",
        "\n",
        "#更新参数\n",
        "optimizer.step()"
      ],
      "execution_count": 0,
      "outputs": []
    },
    {
      "cell_type": "markdown",
      "metadata": {
        "id": "m6z96h0rrx5x",
        "colab_type": "text"
      },
      "source": [
        "\n",
        "\n",
        "####  数据加载与预处理\n",
        "\n",
        "在深度学习中数据加载及预处理是非常复杂繁琐的，但PyTorch提供了一些可极大简化和加快数据处理流程的工具。同时，对于常用的数据集，PyTorch也提供了封装好的接口供用户快速调用，这些数据集主要保存在torchvison中。\n",
        "\n",
        "`torchvision`实现了常用的图像数据加载功能，例如Imagenet、CIFAR10、MNIST等，以及常用的数据转换操作，这极大地方便了数据加载，并且代码具有可重用性。\n",
        "\n",
        "\n",
        "### 小试牛刀：CIFAR-10分类\n",
        "\n",
        "下面我们来尝试实现对CIFAR-10数据集的分类，步骤如下: \n",
        "\n",
        "1. 使用torchvision加载并预处理CIFAR-10数据集\n",
        "2. 定义网络\n",
        "3. 定义损失函数和优化器\n",
        "4. 训练网络并更新网络参数\n",
        "5. 测试网络\n",
        "\n",
        "####   CIFAR-10数据加载及预处理\n",
        "\n",
        "CIFAR-10[^3]是一个常用的彩色图片数据集，它有10个类别: 'airplane', 'automobile', 'bird', 'cat', 'deer', 'dog', 'frog', 'horse', 'ship', 'truck'。每张图片都是$3\\times32\\times32$，也即3-通道彩色图片，分辨率为$32\\times32$。\n",
        "\n",
        "[^3]: http://www.cs.toronto.edu/~kriz/cifar.html"
      ]
    },
    {
      "cell_type": "code",
      "metadata": {
        "id": "CzgCaXiXrx5x",
        "colab_type": "code",
        "colab": {}
      },
      "source": [
        "import torchvision as tv\n",
        "import torchvision.transforms as transforms\n",
        "from torchvision.transforms import ToPILImage\n",
        "show = ToPILImage() # 可以把Tensor转成Image，方便可视化"
      ],
      "execution_count": 0,
      "outputs": []
    },
    {
      "cell_type": "code",
      "metadata": {
        "id": "Kt15W7bSrx50",
        "colab_type": "code",
        "colab": {
          "base_uri": "https://localhost:8080/",
          "height": 116,
          "referenced_widgets": [
            "f31172c87cf5456da383f00b74383c28",
            "1d9d5b5d739944f39d69645496f14c14",
            "036d12d9465947f9bf5f6bd3feb8f1d3",
            "e57126f6842e4bbfad5235962bff1b15",
            "caa194a8e3b145609f93a7a91dcc7539",
            "2bf9c7df3ef148b5b5cd5bbabe36a796",
            "3e0d21ef236642a09dfc36a01c8676f2",
            "672a16133dbb4791a13a25d639eb7511"
          ]
        },
        "outputId": "94980531-6aaa-430c-a3bb-e5f96a7d5c5e"
      },
      "source": [
        "# 第一次运行程序torchvision会自动下载CIFAR-10数据集，\n",
        "# 大约100M，需花费一定的时间，\n",
        "# 如果已经下载有CIFAR-10，可通过root参数指定\n",
        "\n",
        "# 定义对数据的预处理\n",
        "transform = transforms.Compose([\n",
        "        transforms.ToTensor(), # 转为Tensor\n",
        "        transforms.Normalize((0.5, 0.5, 0.5), (0.5, 0.5, 0.5)), # 归一化\n",
        "                             ])\n",
        "\n",
        "# 训练集\n",
        "trainset = tv.datasets.CIFAR10(\n",
        "                    root='/home/cy/tmp/data/', \n",
        "                    train=True, \n",
        "                    download=True,\n",
        "                    transform=transform)\n",
        "\n",
        "trainloader = t.utils.data.DataLoader(\n",
        "                    trainset, \n",
        "                    batch_size=4,\n",
        "                    shuffle=True, \n",
        "                    num_workers=2)\n",
        "\n",
        "# 测试集\n",
        "testset = tv.datasets.CIFAR10(\n",
        "                    '/home/cy/tmp/data/',\n",
        "                    train=False, \n",
        "                    download=True, \n",
        "                    transform=transform)\n",
        "\n",
        "testloader = t.utils.data.DataLoader(\n",
        "                    testset,\n",
        "                    batch_size=4, \n",
        "                    shuffle=False,\n",
        "                    num_workers=2)\n",
        "\n",
        "classes = ('plane', 'car', 'bird', 'cat',\n",
        "           'deer', 'dog', 'frog', 'horse', 'ship', 'truck')"
      ],
      "execution_count": 43,
      "outputs": [
        {
          "output_type": "stream",
          "text": [
            "Downloading https://www.cs.toronto.edu/~kriz/cifar-10-python.tar.gz to /home/cy/tmp/data/cifar-10-python.tar.gz\n"
          ],
          "name": "stdout"
        },
        {
          "output_type": "display_data",
          "data": {
            "application/vnd.jupyter.widget-view+json": {
              "model_id": "f31172c87cf5456da383f00b74383c28",
              "version_minor": 0,
              "version_major": 2
            },
            "text/plain": [
              "HBox(children=(IntProgress(value=1, bar_style=u'info', max=1), HTML(value=u'')))"
            ]
          },
          "metadata": {
            "tags": []
          }
        },
        {
          "output_type": "stream",
          "text": [
            "\n",
            "Extracting /home/cy/tmp/data/cifar-10-python.tar.gz to /home/cy/tmp/data/\n",
            "Files already downloaded and verified\n"
          ],
          "name": "stdout"
        }
      ]
    },
    {
      "cell_type": "markdown",
      "metadata": {
        "id": "skaiJdoFrx54",
        "colab_type": "text"
      },
      "source": [
        "Dataset对象是一个数据集，可以按下标访问，返回形如(data, label)的数据。"
      ]
    },
    {
      "cell_type": "code",
      "metadata": {
        "id": "Rs1ODT6trx55",
        "colab_type": "code",
        "colab": {
          "base_uri": "https://localhost:8080/",
          "height": 134
        },
        "outputId": "70d2c1f2-cac6-4cb2-ebdb-9642ad388bd7"
      },
      "source": [
        "(data, label) = trainset[100]\n",
        "print(classes[label])\n",
        "\n",
        "# (data + 1) / 2是为了还原被归一化的数据\n",
        "show((data + 1) / 2).resize((100, 100))"
      ],
      "execution_count": 44,
      "outputs": [
        {
          "output_type": "stream",
          "text": [
            "ship\n"
          ],
          "name": "stdout"
        },
        {
          "output_type": "execute_result",
          "data": {
            "image/png": "[encoded data removed]",
            "text/plain": [
              "<PIL.Image.Image image mode=RGB size=100x100 at 0x7FD54F8C22D0>"
            ]
          },
          "metadata": {
            "tags": []
          },
          "execution_count": 44
        }
      ]
    },
    {
      "cell_type": "markdown",
      "metadata": {
        "id": "-crRYDdirx58",
        "colab_type": "text"
      },
      "source": [
        "Dataloader是一个可迭代的对象，它将dataset返回的每一条数据拼接成一个batch，并提供多线程加速优化和数据打乱等操作。当程序对dataset的所有数据遍历完一遍之后，相应的对Dataloader也完成了一次迭代。"
      ]
    },
    {
      "cell_type": "code",
      "metadata": {
        "id": "rXuWmD8trx59",
        "colab_type": "code",
        "colab": {
          "base_uri": "https://localhost:8080/",
          "height": 134
        },
        "outputId": "b8de144b-c7a8-4f17-9c56-7165705bc48c"
      },
      "source": [
        "dataiter = iter(trainloader)\n",
        "images, labels = dataiter.next() # 返回4张图片及标签\n",
        "print(' '.join('%11s'%classes[labels[j]] for j in range(4)))\n",
        "show(tv.utils.make_grid((images+1)/2)).resize((400,100))"
      ],
      "execution_count": 45,
      "outputs": [
        {
          "output_type": "stream",
          "text": [
            "        dog       horse         car       truck\n"
          ],
          "name": "stdout"
        },
        {
          "output_type": "execute_result",
          "data": {
            "image/png": "[encoded data removed]",
            "text/plain": [
              "<PIL.Image.Image image mode=RGB size=400x100 at 0x7FD54C634BD0>"
            ]
          },
          "metadata": {
            "tags": []
          },
          "execution_count": 45
        }
      ]
    },
    {
      "cell_type": "markdown",
      "metadata": {
        "id": "YIFcqRWkrx5_",
        "colab_type": "text"
      },
      "source": [
        "####   定义网络\n",
        "\n",
        "拷贝上面的LeNet网络，修改self.conv1第一个参数为3通道，因CIFAR-10是3通道彩图。"
      ]
    },
    {
      "cell_type": "code",
      "metadata": {
        "id": "_EZylFAwrx5_",
        "colab_type": "code",
        "colab": {
          "base_uri": "https://localhost:8080/",
          "height": 134
        },
        "outputId": "4fafcdb8-8986-4ee4-d3d6-7b18a56deff3"
      },
      "source": [
        "import torch.nn as nn\n",
        "import torch.nn.functional as F\n",
        "\n",
        "class Net(nn.Module):\n",
        "    def __init__(self):\n",
        "        super(Net, self).__init__()\n",
        "        self.conv1 = nn.Conv2d(3, 6, 5) \n",
        "        self.conv2 = nn.Conv2d(6, 16, 5)  \n",
        "        self.fc1   = nn.Linear(16*5*5, 120)  \n",
        "        self.fc2   = nn.Linear(120, 84)\n",
        "        self.fc3   = nn.Linear(84, 10)\n",
        "\n",
        "    def forward(self, x): \n",
        "        x = F.max_pool2d(F.relu(self.conv1(x)), (2, 2)) \n",
        "        x = F.max_pool2d(F.relu(self.conv2(x)), 2) \n",
        "        x = x.view(x.size()[0], -1) \n",
        "        x = F.relu(self.fc1(x))\n",
        "        x = F.relu(self.fc2(x))\n",
        "        x = self.fc3(x)        \n",
        "        return x\n",
        "\n",
        "\n",
        "net = Net()\n",
        "print(net)"
      ],
      "execution_count": 46,
      "outputs": [
        {
          "output_type": "stream",
          "text": [
            "Net(\n",
            "  (conv1): Conv2d(3, 6, kernel_size=(5, 5), stride=(1, 1))\n",
            "  (conv2): Conv2d(6, 16, kernel_size=(5, 5), stride=(1, 1))\n",
            "  (fc1): Linear(in_features=400, out_features=120, bias=True)\n",
            "  (fc2): Linear(in_features=120, out_features=84, bias=True)\n",
            "  (fc3): Linear(in_features=84, out_features=10, bias=True)\n",
            ")\n"
          ],
          "name": "stdout"
        }
      ]
    },
    {
      "cell_type": "markdown",
      "metadata": {
        "id": "_tqErix4rx6C",
        "colab_type": "text"
      },
      "source": [
        "####  定义损失函数和优化器(loss和optimizer)"
      ]
    },
    {
      "cell_type": "code",
      "metadata": {
        "id": "cUJIc4X5rx6C",
        "colab_type": "code",
        "colab": {}
      },
      "source": [
        "from torch import optim\n",
        "criterion = nn.CrossEntropyLoss() # 交叉熵损失函数\n",
        "optimizer = optim.SGD(net.parameters(), lr=0.001, momentum=0.9)"
      ],
      "execution_count": 0,
      "outputs": []
    },
    {
      "cell_type": "markdown",
      "metadata": {
        "id": "tO2EsZNDrx6E",
        "colab_type": "text"
      },
      "source": [
        "###   训练网络\n",
        "\n",
        "所有网络的训练流程都是类似的，不断地执行如下流程：\n",
        "\n",
        "- 输入数据\n",
        "- 前向传播+反向传播\n",
        "- 更新参数\n"
      ]
    },
    {
      "cell_type": "code",
      "metadata": {
        "id": "D3LKvJuZrx6F",
        "colab_type": "code",
        "colab": {
          "base_uri": "https://localhost:8080/",
          "height": 235
        },
        "outputId": "7bea6fc1-d935-46b8-f6b0-1ef65dc66f9b"
      },
      "source": [
        "t.set_num_threads(8)\n",
        "for epoch in range(2):  \n",
        "    \n",
        "    running_loss = 0.0\n",
        "    for i, data in enumerate(trainloader, 0):\n",
        "        \n",
        "        # 输入数据\n",
        "        inputs, labels = data\n",
        "        \n",
        "        # 梯度清零\n",
        "        optimizer.zero_grad()\n",
        "        \n",
        "        # forward + backward \n",
        "        outputs = net(inputs)\n",
        "        loss = criterion(outputs, labels)\n",
        "        loss.backward()   \n",
        "        \n",
        "        # 更新参数 \n",
        "        optimizer.step()\n",
        "        \n",
        "        # 打印log信息\n",
        "        # loss 是一个scalar,需要使用loss.item()来获取数值，不能使用loss[0]\n",
        "        running_loss += loss.item()\n",
        "        if i % 2000 == 1999: # 每2000个batch打印一下训练状态\n",
        "            print('[%d, %5d] loss: %.3f' \\\n",
        "                  % (epoch+1, i+1, running_loss / 2000))\n",
        "            running_loss = 0.0\n",
        "print('Finished Training')"
      ],
      "execution_count": 48,
      "outputs": [
        {
          "output_type": "stream",
          "text": [
            "[1,  2000] loss: 2.227\n",
            "[1,  4000] loss: 1.962\n",
            "[1,  6000] loss: 1.744\n",
            "[1,  8000] loss: 1.633\n",
            "[1, 10000] loss: 1.562\n",
            "[1, 12000] loss: 1.505\n",
            "[2,  2000] loss: 1.451\n",
            "[2,  4000] loss: 1.400\n",
            "[2,  6000] loss: 1.397\n",
            "[2,  8000] loss: 1.356\n",
            "[2, 10000] loss: 1.305\n",
            "[2, 12000] loss: 1.272\n",
            "Finished Training\n"
          ],
          "name": "stdout"
        }
      ]
    },
    {
      "cell_type": "markdown",
      "metadata": {
        "id": "iZyGUc-irx6I",
        "colab_type": "text"
      },
      "source": [
        "此处仅训练了2个epoch（遍历完一遍数据集称为一个epoch），来看看网络有没有效果。将测试图片输入到网络中，计算它的label，然后与实际的label进行比较。"
      ]
    },
    {
      "cell_type": "code",
      "metadata": {
        "id": "AZlWtS6yrx6J",
        "colab_type": "code",
        "colab": {},
        "outputId": "3d8093da-836d-4755-a878-c2916be0730a"
      },
      "source": [
        "dataiter = iter(testloader)\n",
        "images, labels = dataiter.next() # 一个batch返回4张图片\n",
        "print('实际的label: ', ' '.join(\\\n",
        "            '%08s'%classes[labels[j]] for j in range(4)))\n",
        "show(tv.utils.make_grid(images / 2 - 0.5)).resize((400,100))\n"
      ],
      "execution_count": 0,
      "outputs": [
        {
          "output_type": "stream",
          "text": [
            "实际的label:       cat     ship     ship    plane\n"
          ],
          "name": "stdout"
        },
        {
          "output_type": "execute_result",
          "data": {
            "image/png": "[encoded data removed]",
            "text/plain": [
              "<PIL.Image.Image image mode=RGB size=400x100 at 0x7F632C0DB110>"
            ]
          },
          "metadata": {
            "tags": []
          },
          "execution_count": 52
        }
      ]
    },
    {
      "cell_type": "markdown",
      "metadata": {
        "id": "Dla52-RZrx6L",
        "colab_type": "text"
      },
      "source": [
        "接着计算网络预测的label："
      ]
    },
    {
      "cell_type": "code",
      "metadata": {
        "id": "iSjb4qBbrx6O",
        "colab_type": "code",
        "colab": {},
        "outputId": "b4825405-b518-4d71-de7b-42623a901e53"
      },
      "source": [
        "# 计算图片在每个类别上的分数\n",
        "outputs = net(images)\n",
        "# 得分最高的那个类\n",
        "_, predicted = t.max(outputs.data, 1)\n",
        "\n",
        "print('预测结果: ', ' '.join('%5s'\\\n",
        "            % classes[predicted[j]] for j in range(4)))"
      ],
      "execution_count": 0,
      "outputs": [
        {
          "output_type": "stream",
          "text": [
            "预测结果:    dog  ship plane plane\n"
          ],
          "name": "stdout"
        }
      ]
    },
    {
      "cell_type": "markdown",
      "metadata": {
        "id": "7Cjhcv83rx6Y",
        "colab_type": "text"
      },
      "source": [
        "已经可以看出效果，准确率50%，但这只是一部分的图片，再来看看在整个测试集上的效果。"
      ]
    },
    {
      "cell_type": "code",
      "metadata": {
        "id": "w5R05Z9Frx6Z",
        "colab_type": "code",
        "colab": {},
        "outputId": "34526f84-42ce-4dae-b858-5b62e9347c4a"
      },
      "source": [
        "correct = 0 # 预测正确的图片数\n",
        "total = 0 # 总共的图片数\n",
        "\n",
        "\n",
        "# 由于测试的时候不需要求导，可以暂时关闭autograd，提高速度，节约内存\n",
        "with t.no_grad():\n",
        "    for data in testloader:\n",
        "        images, labels = data\n",
        "        outputs = net(images)\n",
        "        _, predicted = t.max(outputs, 1)\n",
        "        total += labels.size(0)\n",
        "        correct += (predicted == labels).sum()\n",
        "\n",
        "print('10000张测试集中的准确率为: %d %%' % (100 * correct / total))"
      ],
      "execution_count": 0,
      "outputs": [
        {
          "output_type": "stream",
          "text": [
            "10000张测试集中的准确率为: 53 %\n"
          ],
          "name": "stdout"
        }
      ]
    },
    {
      "cell_type": "markdown",
      "metadata": {
        "id": "ThfO0sR_rx6f",
        "colab_type": "text"
      },
      "source": [
        "训练的准确率远比随机猜测(准确率10%)好，证明网络确实学到了东西。"
      ]
    },
    {
      "cell_type": "markdown",
      "metadata": {
        "id": "ghRdtKyvrx6g",
        "colab_type": "text"
      },
      "source": [
        "####  在GPU训练\n",
        "就像之前把Tensor从CPU转到GPU一样，模型也可以类似地从CPU转到GPU。"
      ]
    },
    {
      "cell_type": "code",
      "metadata": {
        "id": "b1d2GH34rx6h",
        "colab_type": "code",
        "colab": {
          "base_uri": "https://localhost:8080/",
          "height": 34
        },
        "outputId": "7c615316-3cda-49fa-81e1-8927c5bdd596"
      },
      "source": [
        "device = t.device(\"cuda:0\" if t.cuda.is_available() else \"cpu\")\n",
        "\n",
        "net.to(device)\n",
        "images = images.to(device)\n",
        "labels = labels.to(device)\n",
        "output = net(images)\n",
        "loss= criterion(output,labels)\n",
        "\n",
        "loss"
      ],
      "execution_count": 49,
      "outputs": [
        {
          "output_type": "execute_result",
          "data": {
            "text/plain": [
              "tensor(4.2112, grad_fn=<NllLossBackward>)"
            ]
          },
          "metadata": {
            "tags": []
          },
          "execution_count": 49
        }
      ]
    },
    {
      "cell_type": "markdown",
      "metadata": {
        "id": "TxYu66jgrx6m",
        "colab_type": "text"
      },
      "source": [
        "如果发现在GPU上并没有比CPU提速很多，实际上是因为网络比较小，GPU没有完全发挥自己的真正实力。"
      ]
    },
    {
      "cell_type": "markdown",
      "metadata": {
        "id": "qLLc23EArx6p",
        "colab_type": "text"
      },
      "source": [
        "对PyTorch的基础介绍至此结束。总结一下，本节主要包含以下内容。\n",
        "\n",
        "1. Tensor: 类似Numpy数组的数据结构，与Numpy接口类似，可方便地互相转换。\n",
        "2. autograd/: 为tensor提供自动求导功能。\n",
        "3. nn: 专门为神经网络设计的接口，提供了很多有用的功能(神经网络层，损失函数，优化器等)。\n",
        "4. 神经网络训练: 以CIFAR-10分类为例演示了神经网络的训练流程，包括数据加载、网络搭建、训练及测试。\n",
        "\n",
        "通过本节的学习，相信读者可以体会出PyTorch具有接口简单、使用灵活等特点。从下一章开始，本书将深入系统地讲解PyTorch的各部分知识。"
      ]
    }
  ]
}