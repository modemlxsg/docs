{
 "cells": [
  {
   "cell_type": "code",
   "execution_count": 31,
   "metadata": {},
   "outputs": [
    {
     "data": {
      "text/plain": [
       "'1.4.0+cpu'"
      ]
     },
     "execution_count": 31,
     "metadata": {},
     "output_type": "execute_result"
    }
   ],
   "source": [
    "import torch\n",
    "import torchvision\n",
    "import torch.nn as nn\n",
    "import torch.nn.functional as F\n",
    "\n",
    "import numpy as np\n",
    "torch.__version__"
   ]
  },
  {
   "cell_type": "markdown",
   "metadata": {},
   "source": [
    "### SharedConv"
   ]
  },
  {
   "cell_type": "code",
   "execution_count": 52,
   "metadata": {},
   "outputs": [],
   "source": [
    "class SharedConv(nn.Module):\n",
    "    def __init__(self):\n",
    "        super(SharedConv, self).__init__()\n",
    "        self.bbnet = torchvision.models.resnet50(pretrained=True)\n",
    "        self.conv1 = nn.Conv2d(3072, 128, 1)\n",
    "        self.bn1 = nn.BatchNorm2d(128)\n",
    "        self.conv2 = nn.Conv2d(640, 64, 1)\n",
    "        self.bn2 = nn.BatchNorm2d(64)\n",
    "        self.conv3 = nn.Conv2d(320, 32, 1)\n",
    "        self.bn3 = nn.BatchNorm2d(32)\n",
    "        \n",
    "    def __bbnetforward(self,x):\n",
    "        for name,layer in self.bbnet.named_children():\n",
    "            x = layer(x)\n",
    "            \n",
    "            if name=='layer1':\n",
    "                down1 = x\n",
    "            elif name=='layer2':\n",
    "                down2 = x\n",
    "            elif name=='layer3':\n",
    "                down3 = x\n",
    "            elif name =='layer4':\n",
    "                down4 = x\n",
    "                break\n",
    "                \n",
    "        # torch.Size([1, 256, 64, 64])\n",
    "        # torch.Size([1, 512, 32, 32])\n",
    "        # torch.Size([1, 1024, 16, 16])\n",
    "        # torch.Size([1, 2048, 8, 8])   \n",
    "        return down1, down2, down3, down4\n",
    "        \n",
    "    def forward(self, x):\n",
    "        down1, down2, down3, down4 = self.__bbnetforward(x)\n",
    "        \n",
    "        o = F.interpolate(down4,scale_factor=2, mode='bilinear', align_corners=True)\n",
    "        o = torch.cat([o,down3], dim=1) # torch.Size([1, 3072, 16, 16])\n",
    "        o = self.conv1(o)\n",
    "        o = self.bn1(o)\n",
    "        o = F.relu(o) # torch.Size([1, 128, 16, 16])\n",
    "        print(o.size())\n",
    "        \n",
    "        o = F.interpolate(o,scale_factor=2, mode='bilinear', align_corners=True)\n",
    "        o = torch.cat([o,down2], dim=1) # torch.Size([1, 3584, 32, 32])\n",
    "        o = self.conv2(o)\n",
    "        o = self.bn2(o)\n",
    "        o = F.relu(o) # torch.Size([1, 64, 32, 32])\n",
    "        print(o.size())\n",
    "        \n",
    "        \n",
    "        o = F.interpolate(o,scale_factor=2, mode='bilinear', align_corners=True)\n",
    "        o = torch.cat([o,down1], dim=1) # torch.Size([1, 3840, 64, 64])\n",
    "        o = self.conv3(o)\n",
    "        o = self.bn3(o)\n",
    "        o = F.relu(o) # torch.Size([1, 32, 64, 64])\n",
    "        print(o.size())\n",
    "        \n",
    "        return o"
   ]
  },
  {
   "cell_type": "code",
   "execution_count": 54,
   "metadata": {},
   "outputs": [
    {
     "name": "stdout",
     "output_type": "stream",
     "text": [
      "torch.Size([1, 128, 16, 16])\n",
      "torch.Size([1, 64, 32, 32])\n",
      "torch.Size([1, 32, 64, 64])\n"
     ]
    },
    {
     "data": {
      "text/plain": [
       "torch.Size([1, 32, 64, 64])"
      ]
     },
     "execution_count": 54,
     "metadata": {},
     "output_type": "execute_result"
    }
   ],
   "source": [
    "net = SharedConv()\n",
    "x = torch.randn(1,3,256,256)\n",
    "y = net.forward(x)\n",
    "y.shape"
   ]
  },
  {
   "cell_type": "markdown",
   "metadata": {},
   "source": [
    "### Detector"
   ]
  },
  {
   "cell_type": "code",
   "execution_count": null,
   "metadata": {},
   "outputs": [],
   "source": [
    "class Detector(nn.Module):\n",
    "    def __init__(self):\n",
    "        super(Detector, self).__init__()\n",
    "        self.score = nn.Conv2d(32,1,1)\n",
    "        self.geo = nn.Conv2d(32,4,1)\n",
    "        self.angle = nn.Conv2d(32,1,1)\n",
    "        \n",
    "    def forward(self, x):\n",
    "        score = self.score(x)\n",
    "        score = torch.sigmoid(score)\n",
    "        \n",
    "        geo = self.geo(x)\n",
    "        geo = torch.sigmoid(geo)\n",
    "        \n",
    "        angle = self.angel(x)\n",
    "        angel = torch.sigmoid(angle)\n",
    "        \n",
    "        return x"
   ]
  },
  {
   "cell_type": "code",
   "execution_count": null,
   "metadata": {},
   "outputs": [],
   "source": []
  }
 ],
 "metadata": {
  "kernelspec": {
   "display_name": "Python 3",
   "language": "python",
   "name": "python3"
  },
  "language_info": {
   "codemirror_mode": {
    "name": "ipython",
    "version": 3
   },
   "file_extension": ".py",
   "mimetype": "text/x-python",
   "name": "python",
   "nbconvert_exporter": "python",
   "pygments_lexer": "ipython3",
   "version": "3.7.6"
  }
 },
 "nbformat": 4,
 "nbformat_minor": 4
}
