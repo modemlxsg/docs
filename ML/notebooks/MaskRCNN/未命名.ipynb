{
 "cells": [
  {
   "cell_type": "code",
   "execution_count": 1,
   "metadata": {},
   "outputs": [],
   "source": [
    "import numpy as np"
   ]
  },
  {
   "cell_type": "code",
   "execution_count": 3,
   "metadata": {},
   "outputs": [
    {
     "data": {
      "text/plain": [
       "(1900, 9, 4)"
      ]
     },
     "execution_count": 3,
     "metadata": {},
     "output_type": "execute_result"
    }
   ],
   "source": [
    "a = np.random.random((1,9,4))\n",
    "b = np.random.random((1900,1,4))\n",
    "c = a + b\n",
    "c.shape"
   ]
  },
  {
   "cell_type": "code",
   "execution_count": 17,
   "metadata": {},
   "outputs": [],
   "source": [
    "base_size=16\n",
    "ratios=[0.5, 1, 2]\n",
    "scales=2**np.arange(3, 6)\n",
    "base_anchor = np.array([1, 1, base_size, base_size]) - 1 #array([ 0,  0, 15, 15])"
   ]
  },
  {
   "cell_type": "code",
   "execution_count": 18,
   "metadata": {},
   "outputs": [],
   "source": [
    "def _mkanchors(ws, hs, x_ctr, y_ctr):\n",
    "    \"\"\"\n",
    "    Given a vector of widths (ws) and heights (hs) around a center\n",
    "    (x_ctr, y_ctr), output a set of anchors (windows).\n",
    "    \"\"\"\n",
    "\n",
    "    ws = ws[:, np.newaxis]\n",
    "    hs = hs[:, np.newaxis]\n",
    "    anchors = np.hstack((x_ctr - 0.5 * (ws - 1),\n",
    "                         y_ctr - 0.5 * (hs - 1),\n",
    "                         x_ctr + 0.5 * (ws - 1),\n",
    "                         y_ctr + 0.5 * (hs - 1)))\n",
    "    return anchors\n",
    "\n",
    "def _scale_enum(anchor, scales):\n",
    "    \"\"\"\n",
    "    Enumerate a set of anchors for each scale wrt an anchor.\n",
    "    \"\"\"\n",
    "\n",
    "    w, h, x_ctr, y_ctr = _whctrs(anchor)\n",
    "    ws = w * scales\n",
    "    hs = h * scales\n",
    "    anchors = _mkanchors(ws, hs, x_ctr, y_ctr)\n",
    "    return anchors\n",
    "\n",
    "def _whctrs(anchor):\n",
    "    \"\"\"\n",
    "    Return width, height, x center, and y center for an anchor (window).\n",
    "    \"\"\"\n",
    "\n",
    "    w = anchor[2] - anchor[0] + 1\n",
    "    h = anchor[3] - anchor[1] + 1\n",
    "    x_ctr = anchor[0] + 0.5 * (w - 1)\n",
    "    y_ctr = anchor[1] + 0.5 * (h - 1)\n",
    "    return w, h, x_ctr, y_ctr\n",
    "\n",
    "def _ratio_enum(anchor, ratios):\n",
    "    \"\"\"\n",
    "    Enumerate a set of anchors for each aspect ratio wrt an anchor.\n",
    "    \"\"\"\n",
    "    w, h, x_ctr, y_ctr = _whctrs(anchor)\n",
    "    size = w * h\n",
    "    size_ratios = size / ratios\n",
    "    ws = np.round(np.sqrt(size_ratios))\n",
    "    hs = np.round(ws * ratios)\n",
    "    anchors = _mkanchors(ws, hs, x_ctr, y_ctr)\n",
    "    return anchors"
   ]
  },
  {
   "cell_type": "code",
   "execution_count": 23,
   "metadata": {},
   "outputs": [
    {
     "data": {
      "text/plain": [
       "array([[-3.5,  2. , 18.5, 13. ],\n",
       "       [ 0. ,  0. , 15. , 15. ],\n",
       "       [ 2.5, -3. , 12.5, 18. ]])"
      ]
     },
     "execution_count": 23,
     "metadata": {},
     "output_type": "execute_result"
    }
   ],
   "source": [
    "ratio_anchors = _ratio_enum(base_anchor, ratios)\n",
    "ratio_anchors"
   ]
  },
  {
   "cell_type": "code",
   "execution_count": 21,
   "metadata": {},
   "outputs": [],
   "source": [
    "anchors = np.vstack([_scale_enum(ratio_anchors[i, :], scales) for i in range(ratio_anchors.shape[0])])"
   ]
  },
  {
   "cell_type": "code",
   "execution_count": 22,
   "metadata": {},
   "outputs": [
    {
     "data": {
      "text/plain": [
       "array([[ -84.,  -40.,   99.,   55.],\n",
       "       [-176.,  -88.,  191.,  103.],\n",
       "       [-360., -184.,  375.,  199.],\n",
       "       [ -56.,  -56.,   71.,   71.],\n",
       "       [-120., -120.,  135.,  135.],\n",
       "       [-248., -248.,  263.,  263.],\n",
       "       [ -36.,  -80.,   51.,   95.],\n",
       "       [ -80., -168.,   95.,  183.],\n",
       "       [-168., -344.,  183.,  359.]])"
      ]
     },
     "execution_count": 22,
     "metadata": {},
     "output_type": "execute_result"
    }
   ],
   "source": [
    "anchors"
   ]
  },
  {
   "cell_type": "code",
   "execution_count": 24,
   "metadata": {},
   "outputs": [],
   "source": [
    "shift_x = np.arange(0, 50) * 16 # 16\n",
    "shift_y = np.arange(0, 38) * 16\n",
    "\n",
    "shift_x, shift_y = np.meshgrid(shift_x, shift_y)\n",
    "\n",
    "# shifts = torch.from_numpy(np.vstack((shift_x.ravel(), shift_y.ravel(),\n",
    "#                           shift_x.ravel(), shift_y.ravel())).transpose())\n",
    "# shifts = shifts.contiguous().type_as(scores).float()"
   ]
  },
  {
   "cell_type": "code",
   "execution_count": 34,
   "metadata": {},
   "outputs": [
    {
     "data": {
      "text/plain": [
       "array([[  0,  16,  32, ..., 752, 768, 784],\n",
       "       [  0,  16,  32, ..., 752, 768, 784],\n",
       "       [  0,  16,  32, ..., 752, 768, 784],\n",
       "       ...,\n",
       "       [  0,  16,  32, ..., 752, 768, 784],\n",
       "       [  0,  16,  32, ..., 752, 768, 784],\n",
       "       [  0,  16,  32, ..., 752, 768, 784]])"
      ]
     },
     "execution_count": 34,
     "metadata": {},
     "output_type": "execute_result"
    },
    {
     "data": {
      "text/plain": [
       "(38, 50)"
      ]
     },
     "execution_count": 34,
     "metadata": {},
     "output_type": "execute_result"
    },
    {
     "data": {
      "text/plain": [
       "array([[  0,   0,   0, ...,   0,   0,   0],\n",
       "       [ 16,  16,  16, ...,  16,  16,  16],\n",
       "       [ 32,  32,  32, ...,  32,  32,  32],\n",
       "       ...,\n",
       "       [560, 560, 560, ..., 560, 560, 560],\n",
       "       [576, 576, 576, ..., 576, 576, 576],\n",
       "       [592, 592, 592, ..., 592, 592, 592]])"
      ]
     },
     "execution_count": 34,
     "metadata": {},
     "output_type": "execute_result"
    }
   ],
   "source": [
    "shift_x\n",
    "shift_x.shape\n",
    "shift_y"
   ]
  },
  {
   "cell_type": "code",
   "execution_count": 48,
   "metadata": {},
   "outputs": [
    {
     "data": {
      "text/plain": [
       "array([[  0,  16,  32, ..., 752, 768, 784],\n",
       "       [  0,   0,   0, ..., 592, 592, 592],\n",
       "       [  0,  16,  32, ..., 752, 768, 784],\n",
       "       [  0,   0,   0, ..., 592, 592, 592]])"
      ]
     },
     "execution_count": 48,
     "metadata": {},
     "output_type": "execute_result"
    },
    {
     "data": {
      "text/plain": [
       "array([[  0,   0,   0,   0],\n",
       "       [ 16,   0,  16,   0],\n",
       "       [ 32,   0,  32,   0],\n",
       "       ...,\n",
       "       [752, 592, 752, 592],\n",
       "       [768, 592, 768, 592],\n",
       "       [784, 592, 784, 592]])"
      ]
     },
     "execution_count": 48,
     "metadata": {},
     "output_type": "execute_result"
    }
   ],
   "source": [
    "shifts = np.vstack((shift_x.ravel(), shift_y.ravel(), shift_x.ravel(), shift_y.ravel() ))\n",
    "shifts\n",
    "shifts = shifts.transpose()\n",
    "shifts"
   ]
  },
  {
   "cell_type": "code",
   "execution_count": 49,
   "metadata": {},
   "outputs": [
    {
     "data": {
      "text/plain": [
       "tensor([[  0.,   0.,   0.,   0.],\n",
       "        [ 16.,   0.,  16.,   0.],\n",
       "        [ 32.,   0.,  32.,   0.],\n",
       "        ...,\n",
       "        [752., 592., 752., 592.],\n",
       "        [768., 592., 768., 592.],\n",
       "        [784., 592., 784., 592.]])"
      ]
     },
     "execution_count": 49,
     "metadata": {},
     "output_type": "execute_result"
    }
   ],
   "source": [
    "import torch\n",
    "shifts = torch.from_numpy(shifts)\n",
    "shifts = shifts.contiguous().float()\n",
    "shifts"
   ]
  },
  {
   "cell_type": "code",
   "execution_count": 52,
   "metadata": {},
   "outputs": [
    {
     "data": {
      "text/plain": [
       "torch.Size([1900, 4])"
      ]
     },
     "execution_count": 52,
     "metadata": {},
     "output_type": "execute_result"
    }
   ],
   "source": [
    "shifts.size()"
   ]
  },
  {
   "cell_type": "code",
   "execution_count": null,
   "metadata": {},
   "outputs": [],
   "source": [
    "\n",
    "# bbox_transform_inv(anchors, bbox_deltas, batch_size)\n",
    "def bbox_transform_inv(boxes, deltas, batch_size):\n",
    "    widths = boxes[:, :, 2] - boxes[:, :, 0] + 1.0\n",
    "    heights = boxes[:, :, 3] - boxes[:, :, 1] + 1.0\n",
    "    ctr_x = boxes[:, :, 0] + 0.5 * widths\n",
    "    ctr_y = boxes[:, :, 1] + 0.5 * heights\n",
    "\n",
    "    dx = deltas[:, :, 0::4]\n",
    "    dy = deltas[:, :, 1::4]\n",
    "    dw = deltas[:, :, 2::4]\n",
    "    dh = deltas[:, :, 3::4]\n",
    "\n",
    "    pred_ctr_x = dx * widths.unsqueeze(2) + ctr_x.unsqueeze(2)\n",
    "    pred_ctr_y = dy * heights.unsqueeze(2) + ctr_y.unsqueeze(2)\n",
    "    pred_w = torch.exp(dw) * widths.unsqueeze(2)\n",
    "    pred_h = torch.exp(dh) * heights.unsqueeze(2)\n",
    "\n",
    "    pred_boxes = deltas.clone()\n",
    "    # x1\n",
    "    pred_boxes[:, :, 0::4] = pred_ctr_x - 0.5 * pred_w\n",
    "    # y1\n",
    "    pred_boxes[:, :, 1::4] = pred_ctr_y - 0.5 * pred_h\n",
    "    # x2\n",
    "    pred_boxes[:, :, 2::4] = pred_ctr_x + 0.5 * pred_w\n",
    "    # y2\n",
    "    pred_boxes[:, :, 3::4] = pred_ctr_y + 0.5 * pred_h\n",
    "\n",
    "    return pred_boxes"
   ]
  },
  {
   "cell_type": "code",
   "execution_count": null,
   "metadata": {},
   "outputs": [],
   "source": []
  }
 ],
 "metadata": {
  "kernelspec": {
   "display_name": "Python 3",
   "language": "python",
   "name": "python3"
  },
  "language_info": {
   "codemirror_mode": {
    "name": "ipython",
    "version": 3
   },
   "file_extension": ".py",
   "mimetype": "text/x-python",
   "name": "python",
   "nbconvert_exporter": "python",
   "pygments_lexer": "ipython3",
   "version": "3.7.6"
  }
 },
 "nbformat": 4,
 "nbformat_minor": 4
}
